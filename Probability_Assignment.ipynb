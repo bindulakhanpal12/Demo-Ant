{
  "cells": [
    {
      "cell_type": "markdown",
      "metadata": {
        "id": "view-in-github",
        "colab_type": "text"
      },
      "source": [
        "<a href=\"https://colab.research.google.com/github/bindulakhanpal12/Demo-Ant/blob/main/Probability_Assignment.ipynb\" target=\"_parent\"><img src=\"https://colab.research.google.com/assets/colab-badge.svg\" alt=\"Open In Colab\"/></a>"
      ]
    },
    {
      "cell_type": "code",
      "execution_count": null,
      "metadata": {
        "id": "bpWQReoTB7Cg"
      },
      "outputs": [],
      "source": []
    },
    {
      "cell_type": "code",
      "execution_count": null,
      "metadata": {
        "id": "ZNAW3XZ8B6_B"
      },
      "outputs": [],
      "source": []
    },
    {
      "cell_type": "code",
      "execution_count": null,
      "metadata": {
        "id": "GfsRmvkXSElm"
      },
      "outputs": [],
      "source": []
    },
    {
      "cell_type": "markdown",
      "metadata": {
        "id": "x6k_00GnSjSr"
      },
      "source": [
        "# Question 1\n",
        "## Coin Toss and Betting\n"
      ]
    },
    {
      "cell_type": "markdown",
      "metadata": {
        "id": "qzoHdoOImkUX"
      },
      "source": [
        "#Question 1\n",
        "##Coin Toss and Betting\n",
        "\n",
        "We are given a function coin_toss that simulates a single coin toss.\n",
        "\n",
        "The function coin_trial simulates a trial of 100 coin tosses by calling the coin_toss function each time.\n",
        "\n",
        "Note that a fair coin is supposed to yield 50 heads and 50 tails. However, that is not always the case. If you toss the coin 100 times, you might get fewer or more than 50 heads.\n",
        "\n",
        "Now, what if you repeat the experiment 10, 100, 1000... 10000 times? You will observe that the average number of heads will converge close to 50.\n",
        "\n",
        "The simulate function simulates this repeating experiment. If you call simulate with n = 1, it is equivalent to 100 coin tosses. If you call it with n = 10, you repeat a trial of 100 coin tosses 10 times.\n",
        "\n",
        "There is a fascinating probability theory at play here, which you will learn about in the next class. However, even without knowing the theory, one can verify this through simulation."
      ]
    },
    {
      "cell_type": "code",
      "execution_count": null,
      "metadata": {
        "id": "V4MTw2nASEi0"
      },
      "outputs": [],
      "source": [
        "import random\n",
        "def coin_toss():\n",
        "  if random.random() <= 0.5:\n",
        "    return 1\n",
        "  return 0\n",
        "\n",
        "def coin_trial():\n",
        "  heads = 0\n",
        "  for i in range(100):\n",
        "      heads +=coin_toss()\n",
        "  return heads\n",
        "def simulate(n):\n",
        "    trials = []\n",
        "    for i in range(n):\n",
        "        trials.append(coin_trial())\n",
        "    return(sum(trials)/n)"
      ]
    },
    {
      "cell_type": "code",
      "execution_count": null,
      "metadata": {
        "colab": {
          "base_uri": "https://localhost:8080/"
        },
        "id": "K3LbfwacSEfr",
        "outputId": "220900a7-b989-4fd6-d38a-4c5964a072b5"
      },
      "outputs": [
        {
          "output_type": "execute_result",
          "data": {
            "text/plain": [
              "51.0"
            ]
          },
          "metadata": {},
          "execution_count": 3
        }
      ],
      "source": [
        "simulate(1)"
      ]
    },
    {
      "cell_type": "code",
      "execution_count": null,
      "metadata": {
        "colab": {
          "base_uri": "https://localhost:8080/"
        },
        "id": "t9_p8zcbSEc7",
        "outputId": "c40810ab-9fdc-4373-87a4-831bd1255cb6"
      },
      "outputs": [
        {
          "output_type": "execute_result",
          "data": {
            "text/plain": [
              "48.7"
            ]
          },
          "metadata": {},
          "execution_count": 4
        }
      ],
      "source": [
        "simulate(10)"
      ]
    },
    {
      "cell_type": "code",
      "execution_count": null,
      "metadata": {
        "colab": {
          "base_uri": "https://localhost:8080/"
        },
        "id": "3ZeVfF4iTxZa",
        "outputId": "a95b6053-923d-4f13-c3d7-e8dd52147550"
      },
      "outputs": [
        {
          "output_type": "execute_result",
          "data": {
            "text/plain": [
              "50.45"
            ]
          },
          "metadata": {},
          "execution_count": 5
        }
      ],
      "source": [
        "simulate(100)"
      ]
    },
    {
      "cell_type": "code",
      "execution_count": null,
      "metadata": {
        "colab": {
          "base_uri": "https://localhost:8080/"
        },
        "id": "hfLVdWc2TzSX",
        "outputId": "53102add-c049-48a4-e3c9-f9fa29bb0969"
      },
      "outputs": [
        {
          "output_type": "execute_result",
          "data": {
            "text/plain": [
              "50.17"
            ]
          },
          "metadata": {},
          "execution_count": 6
        }
      ],
      "source": [
        "simulate(1000)"
      ]
    },
    {
      "cell_type": "code",
      "execution_count": null,
      "metadata": {
        "colab": {
          "base_uri": "https://localhost:8080/"
        },
        "id": "qG1hr61rTzPY",
        "outputId": "5addae1c-8965-4678-aaec-993f4241b764"
      },
      "outputs": [
        {
          "output_type": "execute_result",
          "data": {
            "text/plain": [
              "50.0077"
            ]
          },
          "metadata": {},
          "execution_count": 13
        }
      ],
      "source": [
        "simulate(10000)"
      ]
    },
    {
      "cell_type": "markdown",
      "metadata": {
        "id": "2N6NHNaxT2zL"
      },
      "source": [
        "Try simulating this 100-coin toss 10, 100, 1000, 10000 times and notice if the average number of heads you are getting is approaching close to 50. Can you tell intuitively why this happens?\n"
      ]
    },
    {
      "cell_type": "code",
      "execution_count": null,
      "metadata": {
        "id": "P7NBQxpVTzJe"
      },
      "outputs": [],
      "source": []
    },
    {
      "cell_type": "markdown",
      "metadata": {
        "id": "7IXQkuNXUGXL"
      },
      "source": [
        "## Betting offer\n",
        "\n",
        "Your friend suggests a fair coin game with the following rules: you will keep tossing the coin until heads comes up. For every tails that appears, you owe your friend `$10`. However, if a head comes up, your friend will pay you `$100`.\n",
        "\n",
        "The sample space for this experiment includes outcomes like {H, TH, TTH, .... TTTTTH ....}. As soon as a head appears, you stop tossing, and your friend pays you `$100`. For each tails that shows up, you need to pay your friend $10. To make a profit, it's beneficial to get a head as quickly as possible.\n",
        "\n",
        "You can use the simulation method we discussed earlier to simulate a fair coin. Now, leverage the power of simulation.\n",
        "\n",
        "Write a simulation logic and a trial logic to help you decide whether you should take this bet or not.\n",
        "\n",
        "Consider this: What if your friend offered you `$100` once a head comes up? Would you take the bet? Write a simulation function to decide."
      ]
    },
    {
      "cell_type": "code",
      "execution_count": null,
      "metadata": {
        "colab": {
          "base_uri": "https://localhost:8080/"
        },
        "id": "d5LhXOUTWqii",
        "outputId": "73afa605-06c7-437c-fee9-e991f2ee8976"
      },
      "outputs": [
        {
          "data": {
            "text/plain": [
              "15.0"
            ]
          },
          "execution_count": 14,
          "metadata": {},
          "output_type": "execute_result"
        }
      ],
      "source": [
        "import random\n",
        "def simulate(n, recieve, give):\n",
        "  if n == 0:\n",
        "    return recieve-0\n",
        "  trials = []\n",
        "  for index in range(n):\n",
        "    numberofTails=0\n",
        "    toss=coin_toss()\n",
        "    while toss==0:\n",
        "\n",
        "      toss=coin_toss()\n",
        "      numberofTails=numberofTails+1\n",
        "\n",
        "    trials.append(numberofTails)\n",
        "  avgTails = sum(trials)/(n) if trials else 0\n",
        "  return recieve - give*avgTails\n",
        "\n",
        "simulate(1,15,10)\n"
      ]
    },
    {
      "cell_type": "code",
      "execution_count": null,
      "metadata": {
        "colab": {
          "base_uri": "https://localhost:8080/"
        },
        "id": "rS4RQkCwHmRf",
        "outputId": "9ef34b4c-2ca9-4a69-f093-f91a188b4056"
      },
      "outputs": [
        {
          "data": {
            "text/plain": [
              "6.6"
            ]
          },
          "execution_count": 15,
          "metadata": {},
          "output_type": "execute_result"
        }
      ],
      "source": [
        "simulate(100,15,10)"
      ]
    },
    {
      "cell_type": "code",
      "execution_count": null,
      "metadata": {
        "colab": {
          "base_uri": "https://localhost:8080/"
        },
        "id": "fwwjgpqXHnQe",
        "outputId": "1d84938f-c347-429e-d9df-330936976852"
      },
      "outputs": [
        {
          "data": {
            "text/plain": [
              "5.0018899999999995"
            ]
          },
          "execution_count": 16,
          "metadata": {},
          "output_type": "execute_result"
        }
      ],
      "source": [
        "simulate(1000000,15,10)"
      ]
    },
    {
      "cell_type": "markdown",
      "metadata": {
        "id": "FDBbjyTXpnV3"
      },
      "source": [
        "This we have done when you get 15 dollar for a head. You get head in the (i+1)th toss. Now, we will do for 100 dollar."
      ]
    },
    {
      "cell_type": "code",
      "execution_count": null,
      "metadata": {
        "colab": {
          "base_uri": "https://localhost:8080/"
        },
        "id": "ffnuZcmhHxUv",
        "outputId": "562b7670-c0a6-477f-a156-728d1a6d77aa"
      },
      "outputs": [
        {
          "data": {
            "text/plain": [
              "90.00839"
            ]
          },
          "execution_count": 17,
          "metadata": {},
          "output_type": "execute_result"
        }
      ],
      "source": [
        "simulate(1000000,100,10)"
      ]
    },
    {
      "cell_type": "markdown",
      "metadata": {
        "id": "2JWXDKPErtMI"
      },
      "source": [
        "Simulate these functions the same number of times. You will see that the profit in the 100 dollar case is more. So, as the money given for head increases, the profit increases. You should take the bet. Also, the sooner you get the head, more profit you have."
      ]
    },
    {
      "cell_type": "markdown",
      "metadata": {
        "id": "QFYvWrVMaaY9"
      },
      "source": [
        "# Question 2\n",
        "## Dice Roll\n",
        "\n",
        "Write a Python function to simulate a casino where two dice are rolled together, and the player wins if there are two six and gets `$100`. What will be the average profit if the casino fee is 5 cents per game?"
      ]
    },
    {
      "cell_type": "code",
      "execution_count": null,
      "metadata": {
        "id": "ZA2WGJkCWqc3"
      },
      "outputs": [],
      "source": [
        "import random\n",
        "def die_throw():\n",
        "  face=random.randint(1,6)\n",
        "  return face"
      ]
    },
    {
      "cell_type": "code",
      "execution_count": null,
      "metadata": {
        "colab": {
          "base_uri": "https://localhost:8080/"
        },
        "id": "bkF-dBCQWqUq",
        "outputId": "aff6f251-9346-45c0-a819-ba8656ce8176"
      },
      "outputs": [
        {
          "data": {
            "text/plain": [
              "5"
            ]
          },
          "execution_count": 19,
          "metadata": {},
          "output_type": "execute_result"
        }
      ],
      "source": [
        "f1=die_throw()\n",
        "f1\n"
      ]
    },
    {
      "cell_type": "code",
      "execution_count": null,
      "metadata": {
        "colab": {
          "base_uri": "https://localhost:8080/"
        },
        "id": "0z27taKR0LPy",
        "outputId": "e86ee52a-ef45-4f5b-e1ec-45f58d84ddbc"
      },
      "outputs": [
        {
          "data": {
            "text/plain": [
              "3"
            ]
          },
          "execution_count": 20,
          "metadata": {},
          "output_type": "execute_result"
        }
      ],
      "source": [
        "f2=die_throw()\n",
        "f2"
      ]
    },
    {
      "cell_type": "code",
      "execution_count": null,
      "metadata": {
        "id": "syVo0WFv1kGR"
      },
      "outputs": [],
      "source": [
        "def simulate(n):\n",
        "\n",
        "  trials = []\n",
        "  for index in range(n):\n",
        "    f1=die_throw()\n",
        "\n",
        "    trials.append(f1)\n",
        "  return sum(trials)*1.0/n\n"
      ]
    },
    {
      "cell_type": "code",
      "execution_count": null,
      "metadata": {
        "colab": {
          "base_uri": "https://localhost:8080/"
        },
        "id": "eCf7a3nIO0T7",
        "outputId": "2bc458cb-cc2b-46d4-b0f8-4b0ac6c90828"
      },
      "outputs": [
        {
          "data": {
            "text/plain": [
              "3.43"
            ]
          },
          "execution_count": 22,
          "metadata": {},
          "output_type": "execute_result"
        }
      ],
      "source": [
        "simulate(100)"
      ]
    },
    {
      "cell_type": "code",
      "execution_count": null,
      "metadata": {
        "colab": {
          "base_uri": "https://localhost:8080/"
        },
        "id": "0L2Z4ArJ1vTU",
        "outputId": "5c352d0a-c748-4b0c-ca66-a715e6f17b8b"
      },
      "outputs": [
        {
          "data": {
            "text/plain": [
              "3.50232"
            ]
          },
          "execution_count": 23,
          "metadata": {},
          "output_type": "execute_result"
        }
      ],
      "source": [
        "simulate(100000)"
      ]
    },
    {
      "cell_type": "code",
      "execution_count": null,
      "metadata": {
        "id": "IO8dPnZaRN6J"
      },
      "outputs": [],
      "source": [
        "def simulate(n,win,fee):\n",
        "\n",
        "  trials = []\n",
        "  for index in range(n):\n",
        "    f1=die_throw()\n",
        "    f2=die_throw()\n",
        "    count = 0\n",
        "    while f1!= 6 or f2!=6:\n",
        "\n",
        "      f1=die_throw()\n",
        "      f2=die_throw()\n",
        "      count += 1\n",
        "\n",
        "\n",
        "    totalfee = fee*count\n",
        "    profit = win - totalfee\n",
        "    trials.append(profit)\n",
        "  return sum(trials)*1.0/n\n",
        "\n",
        "\n",
        "\n",
        "\n",
        "\n",
        "\n"
      ]
    },
    {
      "cell_type": "code",
      "execution_count": null,
      "metadata": {
        "colab": {
          "base_uri": "https://localhost:8080/"
        },
        "id": "dQSD8RxyRwkE",
        "outputId": "0ca13bc8-6cd6-4558-ccfb-e95af07c63ac"
      },
      "outputs": [
        {
          "name": "stdout",
          "output_type": "stream",
          "text": [
            "The profit is -201.66666666666666\n"
          ]
        }
      ],
      "source": [
        "win = 100\n",
        "fee = 5\n",
        "print('The profit is',simulate(3,win, fee))\n",
        "\n",
        "\n"
      ]
    },
    {
      "cell_type": "code",
      "execution_count": null,
      "metadata": {
        "colab": {
          "base_uri": "https://localhost:8080/"
        },
        "id": "pM5iuFJFyp0E",
        "outputId": "3139aeea-39ef-448a-ebd2-c39924e76e8e"
      },
      "outputs": [
        {
          "name": "stdout",
          "output_type": "stream",
          "text": [
            "The profit is -85.15\n"
          ]
        }
      ],
      "source": [
        "print('The profit is',simulate(100,win, fee))\n",
        "\n"
      ]
    },
    {
      "cell_type": "code",
      "execution_count": null,
      "metadata": {
        "colab": {
          "base_uri": "https://localhost:8080/"
        },
        "id": "3XQ-T591ysYG",
        "outputId": "36419638-a137-4013-d172-3f0e47c77ecc"
      },
      "outputs": [
        {
          "name": "stdout",
          "output_type": "stream",
          "text": [
            "The profit is -75.596\n"
          ]
        }
      ],
      "source": [
        "print('The profit is',simulate(100000,win, fee))\n",
        "\n"
      ]
    },
    {
      "cell_type": "markdown",
      "metadata": {
        "id": "HRF8jZOF2ptW"
      },
      "source": [
        "Average # trials needed is 1/36\n",
        "\n",
        "win = 100 - 100*5/36\n",
        "\n",
        "Derivation https://math.stackexchange.com/questions/3713648/expected-number-of-rolling-a-pair-of-dice-to-generate-12"
      ]
    },
    {
      "cell_type": "code",
      "execution_count": null,
      "metadata": {
        "id": "QqTcqfIx2Vv6"
      },
      "outputs": [],
      "source": []
    },
    {
      "cell_type": "code",
      "execution_count": null,
      "metadata": {
        "id": "oTH_-qjKyqf6"
      },
      "outputs": [],
      "source": []
    },
    {
      "cell_type": "markdown",
      "metadata": {
        "id": "hvolcgvFFPsU"
      },
      "source": [
        "# Question 3\n",
        "## Covid Test Data\n",
        "Cure Diagnostics is conducting COVID tests on people. They have collected data on COVID tests conducted over the last week. As an analyst at Cure Diagnostics, you are tasked with analyzing this data.\n",
        "\n",
        "You have been provided with COVID test data for 100 patients who underwent both RT-PCR and Fast Tests. The data includes information on whether the patients were actually infected, as well as their gender. Each column has a binary entry:\n",
        "\n",
        "`covid_fast_kit: 0 - COVID Negative, 1 - COVID Positive`\n",
        "\n",
        "`covid_rt_pcr: 0 - COVID Negative, 1 - COVID Positive`\n",
        "\n",
        "`actual_diagnostic: 0 - COVID Negative, 1 - COVID Positive`\n",
        "\n",
        "`Sex: 0 - Male, 1 - Female`\n",
        "\n",
        "\n",
        "\n",
        "\n",
        "\n",
        "\n",
        "\n"
      ]
    },
    {
      "cell_type": "code",
      "execution_count": null,
      "metadata": {
        "colab": {
          "background_save": true,
          "base_uri": "https://localhost:8080/",
          "height": 38
        },
        "id": "_6CNCORWFrNP",
        "outputId": "0ee9095f-43b9-44f5-bf40-bb1896301177"
      },
      "outputs": [
        {
          "data": {
            "text/html": [
              "\n",
              "     <input type=\"file\" id=\"files-e5d25bc7-4043-4f16-a18f-3447ee8dedbd\" name=\"files[]\" multiple disabled\n",
              "        style=\"border:none\" />\n",
              "     <output id=\"result-e5d25bc7-4043-4f16-a18f-3447ee8dedbd\">\n",
              "      Upload widget is only available when the cell has been executed in the\n",
              "      current browser session. Please rerun this cell to enable.\n",
              "      </output>\n",
              "      <script>// Copyright 2017 Google LLC\n",
              "//\n",
              "// Licensed under the Apache License, Version 2.0 (the \"License\");\n",
              "// you may not use this file except in compliance with the License.\n",
              "// You may obtain a copy of the License at\n",
              "//\n",
              "//      http://www.apache.org/licenses/LICENSE-2.0\n",
              "//\n",
              "// Unless required by applicable law or agreed to in writing, software\n",
              "// distributed under the License is distributed on an \"AS IS\" BASIS,\n",
              "// WITHOUT WARRANTIES OR CONDITIONS OF ANY KIND, either express or implied.\n",
              "// See the License for the specific language governing permissions and\n",
              "// limitations under the License.\n",
              "\n",
              "/**\n",
              " * @fileoverview Helpers for google.colab Python module.\n",
              " */\n",
              "(function(scope) {\n",
              "function span(text, styleAttributes = {}) {\n",
              "  const element = document.createElement('span');\n",
              "  element.textContent = text;\n",
              "  for (const key of Object.keys(styleAttributes)) {\n",
              "    element.style[key] = styleAttributes[key];\n",
              "  }\n",
              "  return element;\n",
              "}\n",
              "\n",
              "// Max number of bytes which will be uploaded at a time.\n",
              "const MAX_PAYLOAD_SIZE = 100 * 1024;\n",
              "\n",
              "function _uploadFiles(inputId, outputId) {\n",
              "  const steps = uploadFilesStep(inputId, outputId);\n",
              "  const outputElement = document.getElementById(outputId);\n",
              "  // Cache steps on the outputElement to make it available for the next call\n",
              "  // to uploadFilesContinue from Python.\n",
              "  outputElement.steps = steps;\n",
              "\n",
              "  return _uploadFilesContinue(outputId);\n",
              "}\n",
              "\n",
              "// This is roughly an async generator (not supported in the browser yet),\n",
              "// where there are multiple asynchronous steps and the Python side is going\n",
              "// to poll for completion of each step.\n",
              "// This uses a Promise to block the python side on completion of each step,\n",
              "// then passes the result of the previous step as the input to the next step.\n",
              "function _uploadFilesContinue(outputId) {\n",
              "  const outputElement = document.getElementById(outputId);\n",
              "  const steps = outputElement.steps;\n",
              "\n",
              "  const next = steps.next(outputElement.lastPromiseValue);\n",
              "  return Promise.resolve(next.value.promise).then((value) => {\n",
              "    // Cache the last promise value to make it available to the next\n",
              "    // step of the generator.\n",
              "    outputElement.lastPromiseValue = value;\n",
              "    return next.value.response;\n",
              "  });\n",
              "}\n",
              "\n",
              "/**\n",
              " * Generator function which is called between each async step of the upload\n",
              " * process.\n",
              " * @param {string} inputId Element ID of the input file picker element.\n",
              " * @param {string} outputId Element ID of the output display.\n",
              " * @return {!Iterable<!Object>} Iterable of next steps.\n",
              " */\n",
              "function* uploadFilesStep(inputId, outputId) {\n",
              "  const inputElement = document.getElementById(inputId);\n",
              "  inputElement.disabled = false;\n",
              "\n",
              "  const outputElement = document.getElementById(outputId);\n",
              "  outputElement.innerHTML = '';\n",
              "\n",
              "  const pickedPromise = new Promise((resolve) => {\n",
              "    inputElement.addEventListener('change', (e) => {\n",
              "      resolve(e.target.files);\n",
              "    });\n",
              "  });\n",
              "\n",
              "  const cancel = document.createElement('button');\n",
              "  inputElement.parentElement.appendChild(cancel);\n",
              "  cancel.textContent = 'Cancel upload';\n",
              "  const cancelPromise = new Promise((resolve) => {\n",
              "    cancel.onclick = () => {\n",
              "      resolve(null);\n",
              "    };\n",
              "  });\n",
              "\n",
              "  // Wait for the user to pick the files.\n",
              "  const files = yield {\n",
              "    promise: Promise.race([pickedPromise, cancelPromise]),\n",
              "    response: {\n",
              "      action: 'starting',\n",
              "    }\n",
              "  };\n",
              "\n",
              "  cancel.remove();\n",
              "\n",
              "  // Disable the input element since further picks are not allowed.\n",
              "  inputElement.disabled = true;\n",
              "\n",
              "  if (!files) {\n",
              "    return {\n",
              "      response: {\n",
              "        action: 'complete',\n",
              "      }\n",
              "    };\n",
              "  }\n",
              "\n",
              "  for (const file of files) {\n",
              "    const li = document.createElement('li');\n",
              "    li.append(span(file.name, {fontWeight: 'bold'}));\n",
              "    li.append(span(\n",
              "        `(${file.type || 'n/a'}) - ${file.size} bytes, ` +\n",
              "        `last modified: ${\n",
              "            file.lastModifiedDate ? file.lastModifiedDate.toLocaleDateString() :\n",
              "                                    'n/a'} - `));\n",
              "    const percent = span('0% done');\n",
              "    li.appendChild(percent);\n",
              "\n",
              "    outputElement.appendChild(li);\n",
              "\n",
              "    const fileDataPromise = new Promise((resolve) => {\n",
              "      const reader = new FileReader();\n",
              "      reader.onload = (e) => {\n",
              "        resolve(e.target.result);\n",
              "      };\n",
              "      reader.readAsArrayBuffer(file);\n",
              "    });\n",
              "    // Wait for the data to be ready.\n",
              "    let fileData = yield {\n",
              "      promise: fileDataPromise,\n",
              "      response: {\n",
              "        action: 'continue',\n",
              "      }\n",
              "    };\n",
              "\n",
              "    // Use a chunked sending to avoid message size limits. See b/62115660.\n",
              "    let position = 0;\n",
              "    do {\n",
              "      const length = Math.min(fileData.byteLength - position, MAX_PAYLOAD_SIZE);\n",
              "      const chunk = new Uint8Array(fileData, position, length);\n",
              "      position += length;\n",
              "\n",
              "      const base64 = btoa(String.fromCharCode.apply(null, chunk));\n",
              "      yield {\n",
              "        response: {\n",
              "          action: 'append',\n",
              "          file: file.name,\n",
              "          data: base64,\n",
              "        },\n",
              "      };\n",
              "\n",
              "      let percentDone = fileData.byteLength === 0 ?\n",
              "          100 :\n",
              "          Math.round((position / fileData.byteLength) * 100);\n",
              "      percent.textContent = `${percentDone}% done`;\n",
              "\n",
              "    } while (position < fileData.byteLength);\n",
              "  }\n",
              "\n",
              "  // All done.\n",
              "  yield {\n",
              "    response: {\n",
              "      action: 'complete',\n",
              "    }\n",
              "  };\n",
              "}\n",
              "\n",
              "scope.google = scope.google || {};\n",
              "scope.google.colab = scope.google.colab || {};\n",
              "scope.google.colab._files = {\n",
              "  _uploadFiles,\n",
              "  _uploadFilesContinue,\n",
              "};\n",
              "})(self);\n",
              "</script> "
            ],
            "text/plain": [
              "<IPython.core.display.HTML object>"
            ]
          },
          "metadata": {},
          "output_type": "display_data"
        },
        {
          "ename": "TypeError",
          "evalue": "ignored",
          "output_type": "error",
          "traceback": [
            "\u001b[0;31m---------------------------------------------------------------------------\u001b[0m",
            "\u001b[0;31mTypeError\u001b[0m                                 Traceback (most recent call last)",
            "\u001b[0;32m<ipython-input-28-2cb7a58eb207>\u001b[0m in \u001b[0;36m<cell line: 2>\u001b[0;34m()\u001b[0m\n\u001b[1;32m      1\u001b[0m \u001b[0;32mfrom\u001b[0m \u001b[0mgoogle\u001b[0m\u001b[0;34m.\u001b[0m\u001b[0mcolab\u001b[0m \u001b[0;32mimport\u001b[0m \u001b[0mfiles\u001b[0m\u001b[0;34m\u001b[0m\u001b[0;34m\u001b[0m\u001b[0m\n\u001b[0;32m----> 2\u001b[0;31m \u001b[0mdata_to_load\u001b[0m \u001b[0;34m=\u001b[0m \u001b[0mfiles\u001b[0m\u001b[0;34m.\u001b[0m\u001b[0mupload\u001b[0m\u001b[0;34m(\u001b[0m\u001b[0;34m)\u001b[0m\u001b[0;34m\u001b[0m\u001b[0;34m\u001b[0m\u001b[0m\n\u001b[0m",
            "\u001b[0;32m/usr/local/lib/python3.10/dist-packages/google/colab/files.py\u001b[0m in \u001b[0;36mupload\u001b[0;34m()\u001b[0m\n\u001b[1;32m     67\u001b[0m   \"\"\"\n\u001b[1;32m     68\u001b[0m \u001b[0;34m\u001b[0m\u001b[0m\n\u001b[0;32m---> 69\u001b[0;31m   \u001b[0muploaded_files\u001b[0m \u001b[0;34m=\u001b[0m \u001b[0m_upload_files\u001b[0m\u001b[0;34m(\u001b[0m\u001b[0mmultiple\u001b[0m\u001b[0;34m=\u001b[0m\u001b[0;32mTrue\u001b[0m\u001b[0;34m)\u001b[0m\u001b[0;34m\u001b[0m\u001b[0;34m\u001b[0m\u001b[0m\n\u001b[0m\u001b[1;32m     70\u001b[0m   \u001b[0;31m# Mapping from original filename to filename as saved locally.\u001b[0m\u001b[0;34m\u001b[0m\u001b[0;34m\u001b[0m\u001b[0m\n\u001b[1;32m     71\u001b[0m   \u001b[0mlocal_filenames\u001b[0m \u001b[0;34m=\u001b[0m \u001b[0mdict\u001b[0m\u001b[0;34m(\u001b[0m\u001b[0;34m)\u001b[0m\u001b[0;34m\u001b[0m\u001b[0;34m\u001b[0m\u001b[0m\n",
            "\u001b[0;32m/usr/local/lib/python3.10/dist-packages/google/colab/files.py\u001b[0m in \u001b[0;36m_upload_files\u001b[0;34m(multiple)\u001b[0m\n\u001b[1;32m    161\u001b[0m   \u001b[0mfiles\u001b[0m \u001b[0;34m=\u001b[0m \u001b[0m_collections\u001b[0m\u001b[0;34m.\u001b[0m\u001b[0mdefaultdict\u001b[0m\u001b[0;34m(\u001b[0m\u001b[0mbytes\u001b[0m\u001b[0;34m)\u001b[0m\u001b[0;34m\u001b[0m\u001b[0;34m\u001b[0m\u001b[0m\n\u001b[1;32m    162\u001b[0m \u001b[0;34m\u001b[0m\u001b[0m\n\u001b[0;32m--> 163\u001b[0;31m   \u001b[0;32mwhile\u001b[0m \u001b[0mresult\u001b[0m\u001b[0;34m[\u001b[0m\u001b[0;34m'action'\u001b[0m\u001b[0;34m]\u001b[0m \u001b[0;34m!=\u001b[0m \u001b[0;34m'complete'\u001b[0m\u001b[0;34m:\u001b[0m\u001b[0;34m\u001b[0m\u001b[0;34m\u001b[0m\u001b[0m\n\u001b[0m\u001b[1;32m    164\u001b[0m     result = _output.eval_js(\n\u001b[1;32m    165\u001b[0m         'google.colab._files._uploadFilesContinue(\"{output_id}\")'.format(\n",
            "\u001b[0;31mTypeError\u001b[0m: 'NoneType' object is not subscriptable"
          ]
        }
      ],
      "source": [
        "from google.colab import files\n",
        "data_to_load = files.upload()"
      ]
    },
    {
      "cell_type": "code",
      "execution_count": null,
      "metadata": {
        "colab": {
          "background_save": true
        },
        "id": "vTayyvREFPIM"
      },
      "outputs": [],
      "source": [
        "import pandas as pd\n",
        "\n",
        "df= pd.read_csv(\"covid.csv\")"
      ]
    },
    {
      "cell_type": "code",
      "execution_count": null,
      "metadata": {
        "colab": {
          "background_save": true
        },
        "id": "NNuaCkcMB6vH"
      },
      "outputs": [],
      "source": [
        "df.head()"
      ]
    },
    {
      "cell_type": "code",
      "execution_count": null,
      "metadata": {
        "colab": {
          "background_save": true
        },
        "id": "NszrFgo7Qbl5"
      },
      "outputs": [],
      "source": [
        "df.tail()"
      ]
    },
    {
      "cell_type": "code",
      "execution_count": null,
      "metadata": {
        "colab": {
          "background_save": true
        },
        "id": "5Bbaa762d745"
      },
      "outputs": [],
      "source": [
        "df.size"
      ]
    },
    {
      "cell_type": "markdown",
      "metadata": {
        "id": "rcncIHt6GuhG"
      },
      "source": [
        "\n",
        "### Given this data you need to figure out the following.\n",
        "\n",
        "Cure Diagnostics gives out free medicine kits to COVID patients who are actually infected. Given they have 100 patients coming in every week, how many free medicine kits should they prepare for next week, given the data above? Who is more likely to be COVID infected - Male or Female?\n",
        "\n",
        "The covid_rt_pcr test takes 48 hours to get results. Cure Diagnostics is planning to introduce the covid_fast_kit test, which reduces testing time from 48 hours to 40 minutes. Both the covid_rt_pcr and covid_fast_kit tests were done last week for each patient.\n",
        "\n",
        "i. If a patient has tested positive using the covid_fast_kit, what is the probability that he or she is actually infected?\n",
        "\n",
        "ii. If a patient has tested positive using the covid_rt_pcr, what is the probability that he or she is actually infected?\n",
        "\n",
        "From i. and ii., what will you inform the patients about the trade-off?\n",
        "\n",
        "\n"
      ]
    },
    {
      "cell_type": "code",
      "execution_count": null,
      "metadata": {
        "colab": {
          "base_uri": "https://localhost:8080/"
        },
        "id": "31EIf3CwPGTv",
        "outputId": "6ff89838-fdd9-48d1-be1a-497d6be88858"
      },
      "outputs": [
        {
          "data": {
            "text/plain": [
              "0.49"
            ]
          },
          "execution_count": 12,
          "metadata": {},
          "output_type": "execute_result"
        }
      ],
      "source": [
        "df[\"actual_diagnostic\"].sum()/len(df[\"actual_diagnostic\"])"
      ]
    },
    {
      "cell_type": "markdown",
      "metadata": {
        "id": "HT08y-sIPlAO"
      },
      "source": [
        "49% of the people tested actually have been positive. So the number of medicine kit required is 49."
      ]
    },
    {
      "cell_type": "code",
      "execution_count": null,
      "metadata": {
        "colab": {
          "base_uri": "https://localhost:8080/",
          "height": 112
        },
        "id": "5al2-IuSB6rK",
        "outputId": "3fb06c0f-70dd-489a-ddfe-3beb3960d114"
      },
      "outputs": [
        {
          "data": {
            "text/html": [
              "\n",
              "  <div id=\"df-924c62b5-a393-46c0-acfa-c49d3d93b3de\">\n",
              "    <div class=\"colab-df-container\">\n",
              "      <div>\n",
              "<style scoped>\n",
              "    .dataframe tbody tr th:only-of-type {\n",
              "        vertical-align: middle;\n",
              "    }\n",
              "\n",
              "    .dataframe tbody tr th {\n",
              "        vertical-align: top;\n",
              "    }\n",
              "\n",
              "    .dataframe thead th {\n",
              "        text-align: right;\n",
              "    }\n",
              "</style>\n",
              "<table border=\"1\" class=\"dataframe\">\n",
              "  <thead>\n",
              "    <tr style=\"text-align: right;\">\n",
              "      <th></th>\n",
              "      <th>sex</th>\n",
              "      <th>actual_diagnostic</th>\n",
              "      <th>count</th>\n",
              "      <th>prob_infected</th>\n",
              "    </tr>\n",
              "  </thead>\n",
              "  <tbody>\n",
              "    <tr>\n",
              "      <th>0</th>\n",
              "      <td>0</td>\n",
              "      <td>30</td>\n",
              "      <td>66</td>\n",
              "      <td>0.454545</td>\n",
              "    </tr>\n",
              "    <tr>\n",
              "      <th>1</th>\n",
              "      <td>1</td>\n",
              "      <td>19</td>\n",
              "      <td>34</td>\n",
              "      <td>0.558824</td>\n",
              "    </tr>\n",
              "  </tbody>\n",
              "</table>\n",
              "</div>\n",
              "      <button class=\"colab-df-convert\" onclick=\"convertToInteractive('df-924c62b5-a393-46c0-acfa-c49d3d93b3de')\"\n",
              "              title=\"Convert this dataframe to an interactive table.\"\n",
              "              style=\"display:none;\">\n",
              "        \n",
              "  <svg xmlns=\"http://www.w3.org/2000/svg\" height=\"24px\"viewBox=\"0 0 24 24\"\n",
              "       width=\"24px\">\n",
              "    <path d=\"M0 0h24v24H0V0z\" fill=\"none\"/>\n",
              "    <path d=\"M18.56 5.44l.94 2.06.94-2.06 2.06-.94-2.06-.94-.94-2.06-.94 2.06-2.06.94zm-11 1L8.5 8.5l.94-2.06 2.06-.94-2.06-.94L8.5 2.5l-.94 2.06-2.06.94zm10 10l.94 2.06.94-2.06 2.06-.94-2.06-.94-.94-2.06-.94 2.06-2.06.94z\"/><path d=\"M17.41 7.96l-1.37-1.37c-.4-.4-.92-.59-1.43-.59-.52 0-1.04.2-1.43.59L10.3 9.45l-7.72 7.72c-.78.78-.78 2.05 0 2.83L4 21.41c.39.39.9.59 1.41.59.51 0 1.02-.2 1.41-.59l7.78-7.78 2.81-2.81c.8-.78.8-2.07 0-2.86zM5.41 20L4 18.59l7.72-7.72 1.47 1.35L5.41 20z\"/>\n",
              "  </svg>\n",
              "      </button>\n",
              "      \n",
              "  <style>\n",
              "    .colab-df-container {\n",
              "      display:flex;\n",
              "      flex-wrap:wrap;\n",
              "      gap: 12px;\n",
              "    }\n",
              "\n",
              "    .colab-df-convert {\n",
              "      background-color: #E8F0FE;\n",
              "      border: none;\n",
              "      border-radius: 50%;\n",
              "      cursor: pointer;\n",
              "      display: none;\n",
              "      fill: #1967D2;\n",
              "      height: 32px;\n",
              "      padding: 0 0 0 0;\n",
              "      width: 32px;\n",
              "    }\n",
              "\n",
              "    .colab-df-convert:hover {\n",
              "      background-color: #E2EBFA;\n",
              "      box-shadow: 0px 1px 2px rgba(60, 64, 67, 0.3), 0px 1px 3px 1px rgba(60, 64, 67, 0.15);\n",
              "      fill: #174EA6;\n",
              "    }\n",
              "\n",
              "    [theme=dark] .colab-df-convert {\n",
              "      background-color: #3B4455;\n",
              "      fill: #D2E3FC;\n",
              "    }\n",
              "\n",
              "    [theme=dark] .colab-df-convert:hover {\n",
              "      background-color: #434B5C;\n",
              "      box-shadow: 0px 1px 3px 1px rgba(0, 0, 0, 0.15);\n",
              "      filter: drop-shadow(0px 1px 2px rgba(0, 0, 0, 0.3));\n",
              "      fill: #FFFFFF;\n",
              "    }\n",
              "  </style>\n",
              "\n",
              "      <script>\n",
              "        const buttonEl =\n",
              "          document.querySelector('#df-924c62b5-a393-46c0-acfa-c49d3d93b3de button.colab-df-convert');\n",
              "        buttonEl.style.display =\n",
              "          google.colab.kernel.accessAllowed ? 'block' : 'none';\n",
              "\n",
              "        async function convertToInteractive(key) {\n",
              "          const element = document.querySelector('#df-924c62b5-a393-46c0-acfa-c49d3d93b3de');\n",
              "          const dataTable =\n",
              "            await google.colab.kernel.invokeFunction('convertToInteractive',\n",
              "                                                     [key], {});\n",
              "          if (!dataTable) return;\n",
              "\n",
              "          const docLinkHtml = 'Like what you see? Visit the ' +\n",
              "            '<a target=\"_blank\" href=https://colab.research.google.com/notebooks/data_table.ipynb>data table notebook</a>'\n",
              "            + ' to learn more about interactive tables.';\n",
              "          element.innerHTML = '';\n",
              "          dataTable['output_type'] = 'display_data';\n",
              "          await google.colab.output.renderOutput(dataTable, element);\n",
              "          const docLink = document.createElement('div');\n",
              "          docLink.innerHTML = docLinkHtml;\n",
              "          element.appendChild(docLink);\n",
              "        }\n",
              "      </script>\n",
              "    </div>\n",
              "  </div>\n",
              "  "
            ],
            "text/plain": [
              "   sex  actual_diagnostic  count  prob_infected\n",
              "0    0                 30     66       0.454545\n",
              "1    1                 19     34       0.558824"
            ]
          },
          "execution_count": 16,
          "metadata": {},
          "output_type": "execute_result"
        }
      ],
      "source": [
        "gender = df.groupby([\"sex\"])[\"actual_diagnostic\"].sum().reset_index()\n",
        "gendertotal = df.groupby([\"sex\"])[\"actual_diagnostic\"].size().reset_index(name = 'count')\n",
        "gender = gender.merge(gendertotal, on = 'sex')\n",
        "gender['prob_infected'] = gender['actual_diagnostic']/gendertotal['count']\n",
        "gender"
      ]
    },
    {
      "cell_type": "markdown",
      "metadata": {
        "id": "RTgpl2cBRZlY"
      },
      "source": [
        "We see that 49 of the people have been actually diagnosed as covid positive, out of them 30 are men are 19 are female. The ratio of male with respect to covid positive diagnosis is quite more than that of females.\n",
        "\n",
        "Therefore, males are more likely to be covid infected."
      ]
    },
    {
      "cell_type": "code",
      "execution_count": null,
      "metadata": {
        "colab": {
          "base_uri": "https://localhost:8080/"
        },
        "id": "dhCrg5y-IjVH",
        "outputId": "5a75df34-5de1-4d56-9429-047110c96ca7"
      },
      "outputs": [
        {
          "data": {
            "text/plain": [
              "covid_fast_kit\n",
              "0    30\n",
              "1    19\n",
              "Name: actual_diagnostic, dtype: int64"
            ]
          },
          "execution_count": 38,
          "metadata": {},
          "output_type": "execute_result"
        }
      ],
      "source": [
        "df.groupby([\"covid_fast_kit\"])[\"actual_diagnostic\"].sum()"
      ]
    },
    {
      "cell_type": "markdown",
      "metadata": {
        "id": "zmsZ_y9XUZdg"
      },
      "source": [
        "P(covid_fast_kit tested positive | actually infected)=N(covid_fast_kit tested positive AND actually infected)/N(actually infected)=19/49=0.387755"
      ]
    },
    {
      "cell_type": "code",
      "execution_count": null,
      "metadata": {
        "colab": {
          "base_uri": "https://localhost:8080/"
        },
        "id": "yjBW2WvcTgqe",
        "outputId": "48ce3bb2-2e2a-4697-b234-9f15c6d92a04"
      },
      "outputs": [
        {
          "data": {
            "text/plain": [
              "covid_fast_kit\n",
              "0         inf\n",
              "1    0.387755\n",
              "Name: actual_diagnostic, dtype: float64"
            ]
          },
          "execution_count": 41,
          "metadata": {},
          "output_type": "execute_result"
        }
      ],
      "source": [
        "prob1=(df.groupby([\"covid_fast_kit\"])[\"actual_diagnostic\"].sum())/df.groupby([\"actual_diagnostic\"])[\"actual_diagnostic\"].sum()\n",
        "prob1"
      ]
    },
    {
      "cell_type": "code",
      "execution_count": null,
      "metadata": {
        "colab": {
          "base_uri": "https://localhost:8080/"
        },
        "id": "0glxfGvoTFzT",
        "outputId": "77a75bc7-cbe3-4b71-b786-092e017be887"
      },
      "outputs": [
        {
          "data": {
            "text/plain": [
              "covid_rt_pcr\n",
              "0    15\n",
              "1    34\n",
              "Name: actual_diagnostic, dtype: int64"
            ]
          },
          "execution_count": 35,
          "metadata": {},
          "output_type": "execute_result"
        }
      ],
      "source": [
        "df.groupby([\"covid_rt_pcr\"])[\"actual_diagnostic\"].sum()"
      ]
    },
    {
      "cell_type": "markdown",
      "metadata": {
        "id": "45K0-BWiVIND"
      },
      "source": [
        "P(covid_rt_pcr tested positive | actually infected)=N(covid_rt_pcr tested positive AND actually infected)/N(actually infected)=34/49=0.693878"
      ]
    },
    {
      "cell_type": "code",
      "execution_count": null,
      "metadata": {
        "colab": {
          "base_uri": "https://localhost:8080/",
          "height": 212
        },
        "id": "5_PIhRkTU5pf",
        "outputId": "8a15c359-d923-4786-aade-7371661ce38d"
      },
      "outputs": [
        {
          "data": {
            "text/plain": [
              "covid_rt_pcr\n",
              "0         inf\n",
              "1    0.693878\n",
              "Name: actual_diagnostic, dtype: float64"
            ]
          },
          "execution_count": 42,
          "metadata": {},
          "output_type": "execute_result"
        },
        {
          "data": {
            "image/png": "[encoded data removed]",
            "text/plain": [
              "<Figure size 400x100 with 1 Axes>"
            ]
          },
          "metadata": {},
          "output_type": "display_data"
        }
      ],
      "source": [
        "prob2=(df.groupby([\"covid_rt_pcr\"])[\"actual_diagnostic\"].sum())/df.groupby([\"actual_diagnostic\"])[\"actual_diagnostic\"].sum()\n",
        "prob2"
      ]
    },
    {
      "cell_type": "markdown",
      "metadata": {
        "id": "eB53ExGJbnWm"
      },
      "source": [
        "# Question 4\n",
        "## Infinte monkey Theorem\n",
        "The infinite monkey theorem states that a monkey hitting keys at random on a typewriter keyboard for an infinite amount of time will almost surely type any given text, such as the complete works of William Shakespeare.\n",
        "\n",
        "Suppose the typewriter can only type between A-Z. Ignoring punctuation, spacing, and capitalization, write a function that calculates the probability of writing the title \"Hamlet.\"\n",
        "\n",
        "The text of Hamlet contains approximately 130,000 letters. Can you comment on the chance of the monkey typing out Hamlet by randomly hitting keys on the typewriter?\n",
        "\n",
        "\n"
      ]
    },
    {
      "cell_type": "markdown",
      "metadata": {
        "id": "VZ6_SWqVbnTn"
      },
      "source": []
    },
    {
      "cell_type": "code",
      "execution_count": null,
      "metadata": {
        "id": "5bwg9257B6n2"
      },
      "outputs": [],
      "source": [
        "import random,string"
      ]
    },
    {
      "cell_type": "markdown",
      "metadata": {
        "id": "41Lb3cRnd4YH"
      },
      "source": [
        "The chance that the first letter typed is 'h' is 1/26, and the chance that the second letter typed is 'a' is also 1/26, and so on. Therefore, the probability of the first six letters spelling 'hamlet' is\n",
        "\n",
        "(1/26) × (1/26) × (1/26) × (1/26) × (1/26) × (1/26) = (1/26)^6 = 1/308915776"
      ]
    },
    {
      "cell_type": "code",
      "execution_count": null,
      "metadata": {
        "id": "JGvQFc5cgN2m"
      },
      "outputs": [],
      "source": [
        "def inf_prob(n):\n",
        "  prob1= (1/26)**n\n",
        "  return prob1\n"
      ]
    },
    {
      "cell_type": "code",
      "execution_count": null,
      "metadata": {
        "colab": {
          "base_uri": "https://localhost:8080/"
        },
        "id": "jBA9KPaygfbO",
        "outputId": "bc5757d4-e086-41cd-8d27-8edfd5f768bc"
      },
      "outputs": [
        {
          "data": {
            "text/plain": [
              "3.237128297390679e-09"
            ]
          },
          "execution_count": 109,
          "metadata": {},
          "output_type": "execute_result"
        }
      ],
      "source": [
        "inf_prob(6)"
      ]
    },
    {
      "cell_type": "markdown",
      "metadata": {
        "id": "o2EgyDzBi8_r"
      },
      "source": [
        "For any required string of 130,000 letters from the set a-z, the average number of letters that needs to be typed\n",
        "until the string appears is (rounded) 3.4 × 10^183,946, except in the case that all letters of the required string are equal,\n",
        "in which case the value is about 4% more, 3.6 × 10^183,946. In that case failure to have the correct string starting from\n",
        "a particular position reduces with about 4% the probability of a correct string starting from the next position (i.e., for\n",
        "overlapping positions the events of having the correct string are not independent; in this case there is a positive\n",
        "correlation between the two successes, so the chance of success after a failure is smaller than the chance of success in\n",
        "general). The figure 3.4 × 10^183,946 is derived from num1 = 26^130000 by taking the logarithm of both sides: log10(num1) =\n",
        "1300000×log10(26) = 183946.5352, therefore num = 10^0.5352 × 10^183946 = 3.429 × 10^183946"
      ]
    },
    {
      "cell_type": "code",
      "execution_count": null,
      "metadata": {
        "id": "JuQUdt1pj0sO"
      },
      "outputs": [],
      "source": [
        "import math\n",
        "def prob():\n",
        "  num1=26**130000\n",
        "  l=math.log10( num1 )\n",
        "  num2=10**(l)\n",
        "  pr=1/num2\n",
        "  return pr"
      ]
    },
    {
      "cell_type": "code",
      "execution_count": null,
      "metadata": {
        "colab": {
          "base_uri": "https://localhost:8080/",
          "height": 287
        },
        "id": "89plzXqdnp6Z",
        "outputId": "701d0d4b-4546-42f7-d383-824815f32593"
      },
      "outputs": [
        {
          "ename": "OverflowError",
          "evalue": "ignored",
          "output_type": "error",
          "traceback": [
            "\u001b[0;31m---------------------------------------------------------------------------\u001b[0m",
            "\u001b[0;31mOverflowError\u001b[0m                             Traceback (most recent call last)",
            "\u001b[0;32m<ipython-input-133-5d0741a13480>\u001b[0m in \u001b[0;36m<cell line: 1>\u001b[0;34m()\u001b[0m\n\u001b[0;32m----> 1\u001b[0;31m \u001b[0mprob\u001b[0m\u001b[0;34m(\u001b[0m\u001b[0;34m)\u001b[0m\u001b[0;34m\u001b[0m\u001b[0;34m\u001b[0m\u001b[0m\n\u001b[0m",
            "\u001b[0;32m<ipython-input-132-b97a863c799a>\u001b[0m in \u001b[0;36mprob\u001b[0;34m()\u001b[0m\n\u001b[1;32m      3\u001b[0m   \u001b[0mnum1\u001b[0m\u001b[0;34m=\u001b[0m\u001b[0;36m26\u001b[0m\u001b[0;34m**\u001b[0m\u001b[0;36m130000\u001b[0m\u001b[0;34m\u001b[0m\u001b[0;34m\u001b[0m\u001b[0m\n\u001b[1;32m      4\u001b[0m   \u001b[0ml\u001b[0m\u001b[0;34m=\u001b[0m\u001b[0mmath\u001b[0m\u001b[0;34m.\u001b[0m\u001b[0mlog10\u001b[0m\u001b[0;34m(\u001b[0m \u001b[0mnum1\u001b[0m \u001b[0;34m)\u001b[0m\u001b[0;34m\u001b[0m\u001b[0;34m\u001b[0m\u001b[0m\n\u001b[0;32m----> 5\u001b[0;31m   \u001b[0mnum2\u001b[0m\u001b[0;34m=\u001b[0m\u001b[0;36m10\u001b[0m\u001b[0;34m**\u001b[0m\u001b[0;34m(\u001b[0m\u001b[0ml\u001b[0m\u001b[0;34m)\u001b[0m\u001b[0;34m\u001b[0m\u001b[0;34m\u001b[0m\u001b[0m\n\u001b[0m\u001b[1;32m      6\u001b[0m   \u001b[0mpr\u001b[0m\u001b[0;34m=\u001b[0m\u001b[0;36m1\u001b[0m\u001b[0;34m/\u001b[0m\u001b[0mnum2\u001b[0m\u001b[0;34m\u001b[0m\u001b[0;34m\u001b[0m\u001b[0m\n\u001b[1;32m      7\u001b[0m   \u001b[0;32mreturn\u001b[0m \u001b[0mpr\u001b[0m\u001b[0;34m\u001b[0m\u001b[0;34m\u001b[0m\u001b[0m\n",
            "\u001b[0;31mOverflowError\u001b[0m: (34, 'Numerical result out of range')"
          ]
        }
      ],
      "source": [
        "prob()"
      ]
    },
    {
      "cell_type": "markdown",
      "metadata": {
        "id": "WAhygSuptnaD"
      },
      "source": [
        "# Question 5\n",
        "#Spam Classification\n",
        "\n",
        "##Exploring the Dataset\n",
        "\n",
        "Let's begin by opening the SMSSpamCollection file using the read_csv() function from the pandas package. We're going to use:\n",
        "\n",
        "- > sep='\\t' because the data points are tab-separated.\n",
        "- > header=None because the dataset doesn't have a header row.\n",
        "- > names=['Label', 'SMS'] to name the columns."
      ]
    },
    {
      "cell_type": "code",
      "execution_count": null,
      "metadata": {
        "colab": {
          "base_uri": "https://localhost:8080/"
        },
        "id": "R0AtM28Sc3W1",
        "outputId": "f6f7678a-6d9b-437b-b864-8559dd64b5d9"
      },
      "outputs": [
        {
          "name": "stdout",
          "output_type": "stream",
          "text": [
            "--2023-04-09 10:01:29--  https://archive.ics.uci.edu/ml/machine-learning-databases/00228/smsspamcollection.zip\n",
            "Resolving archive.ics.uci.edu (archive.ics.uci.edu)... 128.195.10.252\n",
            "Connecting to archive.ics.uci.edu (archive.ics.uci.edu)|128.195.10.252|:443... connected.\n",
            "HTTP request sent, awaiting response... 200 OK\n",
            "Length: 203415 (199K) [application/x-httpd-php]\n",
            "Saving to: ‘smsspamcollection.zip’\n",
            "\n",
            "smsspamcollection.z 100%[===================>] 198.65K   778KB/s    in 0.3s    \n",
            "\n",
            "2023-04-09 10:01:30 (778 KB/s) - ‘smsspamcollection.zip’ saved [203415/203415]\n",
            "\n",
            "Archive:  smsspamcollection.zip\n",
            "  inflating: SMSSpamCollection       \n",
            "  inflating: readme                  \n"
          ]
        }
      ],
      "source": [
        "!wget https://archive.ics.uci.edu/ml/machine-learning-databases/00228/smsspamcollection.zip\n",
        "!unzip smsspamcollection.zip\n"
      ]
    },
    {
      "cell_type": "code",
      "execution_count": null,
      "metadata": {
        "colab": {
          "base_uri": "https://localhost:8080/",
          "height": 225
        },
        "id": "RxelxnFOR88U",
        "outputId": "373058e8-2312-435b-a2f6-565382b649a4"
      },
      "outputs": [
        {
          "name": "stdout",
          "output_type": "stream",
          "text": [
            "(5572, 2)\n"
          ]
        },
        {
          "data": {
            "text/html": [
              "\n",
              "  <div id=\"df-4fbf22e4-7763-4d5f-97a2-ce01f9c401f5\">\n",
              "    <div class=\"colab-df-container\">\n",
              "      <div>\n",
              "<style scoped>\n",
              "    .dataframe tbody tr th:only-of-type {\n",
              "        vertical-align: middle;\n",
              "    }\n",
              "\n",
              "    .dataframe tbody tr th {\n",
              "        vertical-align: top;\n",
              "    }\n",
              "\n",
              "    .dataframe thead th {\n",
              "        text-align: right;\n",
              "    }\n",
              "</style>\n",
              "<table border=\"1\" class=\"dataframe\">\n",
              "  <thead>\n",
              "    <tr style=\"text-align: right;\">\n",
              "      <th></th>\n",
              "      <th>Label</th>\n",
              "      <th>SMS</th>\n",
              "    </tr>\n",
              "  </thead>\n",
              "  <tbody>\n",
              "    <tr>\n",
              "      <th>0</th>\n",
              "      <td>ham</td>\n",
              "      <td>Go until jurong point, crazy.. Available only ...</td>\n",
              "    </tr>\n",
              "    <tr>\n",
              "      <th>1</th>\n",
              "      <td>ham</td>\n",
              "      <td>Ok lar... Joking wif u oni...</td>\n",
              "    </tr>\n",
              "    <tr>\n",
              "      <th>2</th>\n",
              "      <td>spam</td>\n",
              "      <td>Free entry in 2 a wkly comp to win FA Cup fina...</td>\n",
              "    </tr>\n",
              "    <tr>\n",
              "      <th>3</th>\n",
              "      <td>ham</td>\n",
              "      <td>U dun say so early hor... U c already then say...</td>\n",
              "    </tr>\n",
              "    <tr>\n",
              "      <th>4</th>\n",
              "      <td>ham</td>\n",
              "      <td>Nah I don't think he goes to usf, he lives aro...</td>\n",
              "    </tr>\n",
              "  </tbody>\n",
              "</table>\n",
              "</div>\n",
              "      <button class=\"colab-df-convert\" onclick=\"convertToInteractive('df-4fbf22e4-7763-4d5f-97a2-ce01f9c401f5')\"\n",
              "              title=\"Convert this dataframe to an interactive table.\"\n",
              "              style=\"display:none;\">\n",
              "        \n",
              "  <svg xmlns=\"http://www.w3.org/2000/svg\" height=\"24px\"viewBox=\"0 0 24 24\"\n",
              "       width=\"24px\">\n",
              "    <path d=\"M0 0h24v24H0V0z\" fill=\"none\"/>\n",
              "    <path d=\"M18.56 5.44l.94 2.06.94-2.06 2.06-.94-2.06-.94-.94-2.06-.94 2.06-2.06.94zm-11 1L8.5 8.5l.94-2.06 2.06-.94-2.06-.94L8.5 2.5l-.94 2.06-2.06.94zm10 10l.94 2.06.94-2.06 2.06-.94-2.06-.94-.94-2.06-.94 2.06-2.06.94z\"/><path d=\"M17.41 7.96l-1.37-1.37c-.4-.4-.92-.59-1.43-.59-.52 0-1.04.2-1.43.59L10.3 9.45l-7.72 7.72c-.78.78-.78 2.05 0 2.83L4 21.41c.39.39.9.59 1.41.59.51 0 1.02-.2 1.41-.59l7.78-7.78 2.81-2.81c.8-.78.8-2.07 0-2.86zM5.41 20L4 18.59l7.72-7.72 1.47 1.35L5.41 20z\"/>\n",
              "  </svg>\n",
              "      </button>\n",
              "      \n",
              "  <style>\n",
              "    .colab-df-container {\n",
              "      display:flex;\n",
              "      flex-wrap:wrap;\n",
              "      gap: 12px;\n",
              "    }\n",
              "\n",
              "    .colab-df-convert {\n",
              "      background-color: #E8F0FE;\n",
              "      border: none;\n",
              "      border-radius: 50%;\n",
              "      cursor: pointer;\n",
              "      display: none;\n",
              "      fill: #1967D2;\n",
              "      height: 32px;\n",
              "      padding: 0 0 0 0;\n",
              "      width: 32px;\n",
              "    }\n",
              "\n",
              "    .colab-df-convert:hover {\n",
              "      background-color: #E2EBFA;\n",
              "      box-shadow: 0px 1px 2px rgba(60, 64, 67, 0.3), 0px 1px 3px 1px rgba(60, 64, 67, 0.15);\n",
              "      fill: #174EA6;\n",
              "    }\n",
              "\n",
              "    [theme=dark] .colab-df-convert {\n",
              "      background-color: #3B4455;\n",
              "      fill: #D2E3FC;\n",
              "    }\n",
              "\n",
              "    [theme=dark] .colab-df-convert:hover {\n",
              "      background-color: #434B5C;\n",
              "      box-shadow: 0px 1px 3px 1px rgba(0, 0, 0, 0.15);\n",
              "      filter: drop-shadow(0px 1px 2px rgba(0, 0, 0, 0.3));\n",
              "      fill: #FFFFFF;\n",
              "    }\n",
              "  </style>\n",
              "\n",
              "      <script>\n",
              "        const buttonEl =\n",
              "          document.querySelector('#df-4fbf22e4-7763-4d5f-97a2-ce01f9c401f5 button.colab-df-convert');\n",
              "        buttonEl.style.display =\n",
              "          google.colab.kernel.accessAllowed ? 'block' : 'none';\n",
              "\n",
              "        async function convertToInteractive(key) {\n",
              "          const element = document.querySelector('#df-4fbf22e4-7763-4d5f-97a2-ce01f9c401f5');\n",
              "          const dataTable =\n",
              "            await google.colab.kernel.invokeFunction('convertToInteractive',\n",
              "                                                     [key], {});\n",
              "          if (!dataTable) return;\n",
              "\n",
              "          const docLinkHtml = 'Like what you see? Visit the ' +\n",
              "            '<a target=\"_blank\" href=https://colab.research.google.com/notebooks/data_table.ipynb>data table notebook</a>'\n",
              "            + ' to learn more about interactive tables.';\n",
              "          element.innerHTML = '';\n",
              "          dataTable['output_type'] = 'display_data';\n",
              "          await google.colab.output.renderOutput(dataTable, element);\n",
              "          const docLink = document.createElement('div');\n",
              "          docLink.innerHTML = docLinkHtml;\n",
              "          element.appendChild(docLink);\n",
              "        }\n",
              "      </script>\n",
              "    </div>\n",
              "  </div>\n",
              "  "
            ],
            "text/plain": [
              "  Label                                                SMS\n",
              "0   ham  Go until jurong point, crazy.. Available only ...\n",
              "1   ham                      Ok lar... Joking wif u oni...\n",
              "2  spam  Free entry in 2 a wkly comp to win FA Cup fina...\n",
              "3   ham  U dun say so early hor... U c already then say...\n",
              "4   ham  Nah I don't think he goes to usf, he lives aro..."
            ]
          },
          "execution_count": 18,
          "metadata": {},
          "output_type": "execute_result"
        }
      ],
      "source": [
        "import pandas as pd\n",
        "\n",
        "sms_spam = pd.read_csv('SMSSpamCollection', sep='\\t',\n",
        "header=None, names=['Label', 'SMS'])\n",
        "\n",
        "print(sms_spam.shape)\n",
        "sms_spam.head()"
      ]
    },
    {
      "cell_type": "code",
      "execution_count": null,
      "metadata": {
        "colab": {
          "base_uri": "https://localhost:8080/",
          "height": 424
        },
        "id": "55cadcfgD3wQ",
        "outputId": "d3c94e9b-46a3-4c3b-f331-513319ba8dc9"
      },
      "outputs": [
        {
          "data": {
            "text/html": [
              "\n",
              "  <div id=\"df-0f3d30c7-cd3e-4b59-be8c-eaea1865617c\">\n",
              "    <div class=\"colab-df-container\">\n",
              "      <div>\n",
              "<style scoped>\n",
              "    .dataframe tbody tr th:only-of-type {\n",
              "        vertical-align: middle;\n",
              "    }\n",
              "\n",
              "    .dataframe tbody tr th {\n",
              "        vertical-align: top;\n",
              "    }\n",
              "\n",
              "    .dataframe thead th {\n",
              "        text-align: right;\n",
              "    }\n",
              "</style>\n",
              "<table border=\"1\" class=\"dataframe\">\n",
              "  <thead>\n",
              "    <tr style=\"text-align: right;\">\n",
              "      <th></th>\n",
              "      <th>Label</th>\n",
              "      <th>SMS</th>\n",
              "    </tr>\n",
              "  </thead>\n",
              "  <tbody>\n",
              "    <tr>\n",
              "      <th>2</th>\n",
              "      <td>spam</td>\n",
              "      <td>Free entry in 2 a wkly comp to win FA Cup fina...</td>\n",
              "    </tr>\n",
              "    <tr>\n",
              "      <th>5</th>\n",
              "      <td>spam</td>\n",
              "      <td>FreeMsg Hey there darling it's been 3 week's n...</td>\n",
              "    </tr>\n",
              "    <tr>\n",
              "      <th>8</th>\n",
              "      <td>spam</td>\n",
              "      <td>WINNER!! As a valued network customer you have...</td>\n",
              "    </tr>\n",
              "    <tr>\n",
              "      <th>9</th>\n",
              "      <td>spam</td>\n",
              "      <td>Had your mobile 11 months or more? U R entitle...</td>\n",
              "    </tr>\n",
              "    <tr>\n",
              "      <th>11</th>\n",
              "      <td>spam</td>\n",
              "      <td>SIX chances to win CASH! From 100 to 20,000 po...</td>\n",
              "    </tr>\n",
              "    <tr>\n",
              "      <th>...</th>\n",
              "      <td>...</td>\n",
              "      <td>...</td>\n",
              "    </tr>\n",
              "    <tr>\n",
              "      <th>5537</th>\n",
              "      <td>spam</td>\n",
              "      <td>Want explicit SEX in 30 secs? Ring 02073162414...</td>\n",
              "    </tr>\n",
              "    <tr>\n",
              "      <th>5540</th>\n",
              "      <td>spam</td>\n",
              "      <td>ASKED 3MOBILE IF 0870 CHATLINES INCLU IN FREE ...</td>\n",
              "    </tr>\n",
              "    <tr>\n",
              "      <th>5547</th>\n",
              "      <td>spam</td>\n",
              "      <td>Had your contract mobile 11 Mnths? Latest Moto...</td>\n",
              "    </tr>\n",
              "    <tr>\n",
              "      <th>5566</th>\n",
              "      <td>spam</td>\n",
              "      <td>REMINDER FROM O2: To get 2.50 pounds free call...</td>\n",
              "    </tr>\n",
              "    <tr>\n",
              "      <th>5567</th>\n",
              "      <td>spam</td>\n",
              "      <td>This is the 2nd time we have tried 2 contact u...</td>\n",
              "    </tr>\n",
              "  </tbody>\n",
              "</table>\n",
              "<p>747 rows × 2 columns</p>\n",
              "</div>\n",
              "      <button class=\"colab-df-convert\" onclick=\"convertToInteractive('df-0f3d30c7-cd3e-4b59-be8c-eaea1865617c')\"\n",
              "              title=\"Convert this dataframe to an interactive table.\"\n",
              "              style=\"display:none;\">\n",
              "        \n",
              "  <svg xmlns=\"http://www.w3.org/2000/svg\" height=\"24px\"viewBox=\"0 0 24 24\"\n",
              "       width=\"24px\">\n",
              "    <path d=\"M0 0h24v24H0V0z\" fill=\"none\"/>\n",
              "    <path d=\"M18.56 5.44l.94 2.06.94-2.06 2.06-.94-2.06-.94-.94-2.06-.94 2.06-2.06.94zm-11 1L8.5 8.5l.94-2.06 2.06-.94-2.06-.94L8.5 2.5l-.94 2.06-2.06.94zm10 10l.94 2.06.94-2.06 2.06-.94-2.06-.94-.94-2.06-.94 2.06-2.06.94z\"/><path d=\"M17.41 7.96l-1.37-1.37c-.4-.4-.92-.59-1.43-.59-.52 0-1.04.2-1.43.59L10.3 9.45l-7.72 7.72c-.78.78-.78 2.05 0 2.83L4 21.41c.39.39.9.59 1.41.59.51 0 1.02-.2 1.41-.59l7.78-7.78 2.81-2.81c.8-.78.8-2.07 0-2.86zM5.41 20L4 18.59l7.72-7.72 1.47 1.35L5.41 20z\"/>\n",
              "  </svg>\n",
              "      </button>\n",
              "      \n",
              "  <style>\n",
              "    .colab-df-container {\n",
              "      display:flex;\n",
              "      flex-wrap:wrap;\n",
              "      gap: 12px;\n",
              "    }\n",
              "\n",
              "    .colab-df-convert {\n",
              "      background-color: #E8F0FE;\n",
              "      border: none;\n",
              "      border-radius: 50%;\n",
              "      cursor: pointer;\n",
              "      display: none;\n",
              "      fill: #1967D2;\n",
              "      height: 32px;\n",
              "      padding: 0 0 0 0;\n",
              "      width: 32px;\n",
              "    }\n",
              "\n",
              "    .colab-df-convert:hover {\n",
              "      background-color: #E2EBFA;\n",
              "      box-shadow: 0px 1px 2px rgba(60, 64, 67, 0.3), 0px 1px 3px 1px rgba(60, 64, 67, 0.15);\n",
              "      fill: #174EA6;\n",
              "    }\n",
              "\n",
              "    [theme=dark] .colab-df-convert {\n",
              "      background-color: #3B4455;\n",
              "      fill: #D2E3FC;\n",
              "    }\n",
              "\n",
              "    [theme=dark] .colab-df-convert:hover {\n",
              "      background-color: #434B5C;\n",
              "      box-shadow: 0px 1px 3px 1px rgba(0, 0, 0, 0.15);\n",
              "      filter: drop-shadow(0px 1px 2px rgba(0, 0, 0, 0.3));\n",
              "      fill: #FFFFFF;\n",
              "    }\n",
              "  </style>\n",
              "\n",
              "      <script>\n",
              "        const buttonEl =\n",
              "          document.querySelector('#df-0f3d30c7-cd3e-4b59-be8c-eaea1865617c button.colab-df-convert');\n",
              "        buttonEl.style.display =\n",
              "          google.colab.kernel.accessAllowed ? 'block' : 'none';\n",
              "\n",
              "        async function convertToInteractive(key) {\n",
              "          const element = document.querySelector('#df-0f3d30c7-cd3e-4b59-be8c-eaea1865617c');\n",
              "          const dataTable =\n",
              "            await google.colab.kernel.invokeFunction('convertToInteractive',\n",
              "                                                     [key], {});\n",
              "          if (!dataTable) return;\n",
              "\n",
              "          const docLinkHtml = 'Like what you see? Visit the ' +\n",
              "            '<a target=\"_blank\" href=https://colab.research.google.com/notebooks/data_table.ipynb>data table notebook</a>'\n",
              "            + ' to learn more about interactive tables.';\n",
              "          element.innerHTML = '';\n",
              "          dataTable['output_type'] = 'display_data';\n",
              "          await google.colab.output.renderOutput(dataTable, element);\n",
              "          const docLink = document.createElement('div');\n",
              "          docLink.innerHTML = docLinkHtml;\n",
              "          element.appendChild(docLink);\n",
              "        }\n",
              "      </script>\n",
              "    </div>\n",
              "  </div>\n",
              "  "
            ],
            "text/plain": [
              "     Label                                                SMS\n",
              "2     spam  Free entry in 2 a wkly comp to win FA Cup fina...\n",
              "5     spam  FreeMsg Hey there darling it's been 3 week's n...\n",
              "8     spam  WINNER!! As a valued network customer you have...\n",
              "9     spam  Had your mobile 11 months or more? U R entitle...\n",
              "11    spam  SIX chances to win CASH! From 100 to 20,000 po...\n",
              "...    ...                                                ...\n",
              "5537  spam  Want explicit SEX in 30 secs? Ring 02073162414...\n",
              "5540  spam  ASKED 3MOBILE IF 0870 CHATLINES INCLU IN FREE ...\n",
              "5547  spam  Had your contract mobile 11 Mnths? Latest Moto...\n",
              "5566  spam  REMINDER FROM O2: To get 2.50 pounds free call...\n",
              "5567  spam  This is the 2nd time we have tried 2 contact u...\n",
              "\n",
              "[747 rows x 2 columns]"
            ]
          },
          "execution_count": 19,
          "metadata": {},
          "output_type": "execute_result"
        }
      ],
      "source": [
        "sms_spam[sms_spam['Label'] == 'spam']"
      ]
    },
    {
      "cell_type": "code",
      "execution_count": null,
      "metadata": {
        "colab": {
          "base_uri": "https://localhost:8080/",
          "height": 424
        },
        "id": "PvF1TUDbD3th",
        "outputId": "9a5f9a27-cf92-4cb3-f2cd-70a1cd545b94"
      },
      "outputs": [
        {
          "data": {
            "text/html": [
              "\n",
              "  <div id=\"df-2d809fcb-3c85-442b-84f9-11288e081e92\">\n",
              "    <div class=\"colab-df-container\">\n",
              "      <div>\n",
              "<style scoped>\n",
              "    .dataframe tbody tr th:only-of-type {\n",
              "        vertical-align: middle;\n",
              "    }\n",
              "\n",
              "    .dataframe tbody tr th {\n",
              "        vertical-align: top;\n",
              "    }\n",
              "\n",
              "    .dataframe thead th {\n",
              "        text-align: right;\n",
              "    }\n",
              "</style>\n",
              "<table border=\"1\" class=\"dataframe\">\n",
              "  <thead>\n",
              "    <tr style=\"text-align: right;\">\n",
              "      <th></th>\n",
              "      <th>Label</th>\n",
              "      <th>SMS</th>\n",
              "    </tr>\n",
              "  </thead>\n",
              "  <tbody>\n",
              "    <tr>\n",
              "      <th>0</th>\n",
              "      <td>ham</td>\n",
              "      <td>Go until jurong point, crazy.. Available only ...</td>\n",
              "    </tr>\n",
              "    <tr>\n",
              "      <th>1</th>\n",
              "      <td>ham</td>\n",
              "      <td>Ok lar... Joking wif u oni...</td>\n",
              "    </tr>\n",
              "    <tr>\n",
              "      <th>3</th>\n",
              "      <td>ham</td>\n",
              "      <td>U dun say so early hor... U c already then say...</td>\n",
              "    </tr>\n",
              "    <tr>\n",
              "      <th>4</th>\n",
              "      <td>ham</td>\n",
              "      <td>Nah I don't think he goes to usf, he lives aro...</td>\n",
              "    </tr>\n",
              "    <tr>\n",
              "      <th>6</th>\n",
              "      <td>ham</td>\n",
              "      <td>Even my brother is not like to speak with me. ...</td>\n",
              "    </tr>\n",
              "    <tr>\n",
              "      <th>...</th>\n",
              "      <td>...</td>\n",
              "      <td>...</td>\n",
              "    </tr>\n",
              "    <tr>\n",
              "      <th>5565</th>\n",
              "      <td>ham</td>\n",
              "      <td>Huh y lei...</td>\n",
              "    </tr>\n",
              "    <tr>\n",
              "      <th>5568</th>\n",
              "      <td>ham</td>\n",
              "      <td>Will ü b going to esplanade fr home?</td>\n",
              "    </tr>\n",
              "    <tr>\n",
              "      <th>5569</th>\n",
              "      <td>ham</td>\n",
              "      <td>Pity, * was in mood for that. So...any other s...</td>\n",
              "    </tr>\n",
              "    <tr>\n",
              "      <th>5570</th>\n",
              "      <td>ham</td>\n",
              "      <td>The guy did some bitching but I acted like i'd...</td>\n",
              "    </tr>\n",
              "    <tr>\n",
              "      <th>5571</th>\n",
              "      <td>ham</td>\n",
              "      <td>Rofl. Its true to its name</td>\n",
              "    </tr>\n",
              "  </tbody>\n",
              "</table>\n",
              "<p>4825 rows × 2 columns</p>\n",
              "</div>\n",
              "      <button class=\"colab-df-convert\" onclick=\"convertToInteractive('df-2d809fcb-3c85-442b-84f9-11288e081e92')\"\n",
              "              title=\"Convert this dataframe to an interactive table.\"\n",
              "              style=\"display:none;\">\n",
              "        \n",
              "  <svg xmlns=\"http://www.w3.org/2000/svg\" height=\"24px\"viewBox=\"0 0 24 24\"\n",
              "       width=\"24px\">\n",
              "    <path d=\"M0 0h24v24H0V0z\" fill=\"none\"/>\n",
              "    <path d=\"M18.56 5.44l.94 2.06.94-2.06 2.06-.94-2.06-.94-.94-2.06-.94 2.06-2.06.94zm-11 1L8.5 8.5l.94-2.06 2.06-.94-2.06-.94L8.5 2.5l-.94 2.06-2.06.94zm10 10l.94 2.06.94-2.06 2.06-.94-2.06-.94-.94-2.06-.94 2.06-2.06.94z\"/><path d=\"M17.41 7.96l-1.37-1.37c-.4-.4-.92-.59-1.43-.59-.52 0-1.04.2-1.43.59L10.3 9.45l-7.72 7.72c-.78.78-.78 2.05 0 2.83L4 21.41c.39.39.9.59 1.41.59.51 0 1.02-.2 1.41-.59l7.78-7.78 2.81-2.81c.8-.78.8-2.07 0-2.86zM5.41 20L4 18.59l7.72-7.72 1.47 1.35L5.41 20z\"/>\n",
              "  </svg>\n",
              "      </button>\n",
              "      \n",
              "  <style>\n",
              "    .colab-df-container {\n",
              "      display:flex;\n",
              "      flex-wrap:wrap;\n",
              "      gap: 12px;\n",
              "    }\n",
              "\n",
              "    .colab-df-convert {\n",
              "      background-color: #E8F0FE;\n",
              "      border: none;\n",
              "      border-radius: 50%;\n",
              "      cursor: pointer;\n",
              "      display: none;\n",
              "      fill: #1967D2;\n",
              "      height: 32px;\n",
              "      padding: 0 0 0 0;\n",
              "      width: 32px;\n",
              "    }\n",
              "\n",
              "    .colab-df-convert:hover {\n",
              "      background-color: #E2EBFA;\n",
              "      box-shadow: 0px 1px 2px rgba(60, 64, 67, 0.3), 0px 1px 3px 1px rgba(60, 64, 67, 0.15);\n",
              "      fill: #174EA6;\n",
              "    }\n",
              "\n",
              "    [theme=dark] .colab-df-convert {\n",
              "      background-color: #3B4455;\n",
              "      fill: #D2E3FC;\n",
              "    }\n",
              "\n",
              "    [theme=dark] .colab-df-convert:hover {\n",
              "      background-color: #434B5C;\n",
              "      box-shadow: 0px 1px 3px 1px rgba(0, 0, 0, 0.15);\n",
              "      filter: drop-shadow(0px 1px 2px rgba(0, 0, 0, 0.3));\n",
              "      fill: #FFFFFF;\n",
              "    }\n",
              "  </style>\n",
              "\n",
              "      <script>\n",
              "        const buttonEl =\n",
              "          document.querySelector('#df-2d809fcb-3c85-442b-84f9-11288e081e92 button.colab-df-convert');\n",
              "        buttonEl.style.display =\n",
              "          google.colab.kernel.accessAllowed ? 'block' : 'none';\n",
              "\n",
              "        async function convertToInteractive(key) {\n",
              "          const element = document.querySelector('#df-2d809fcb-3c85-442b-84f9-11288e081e92');\n",
              "          const dataTable =\n",
              "            await google.colab.kernel.invokeFunction('convertToInteractive',\n",
              "                                                     [key], {});\n",
              "          if (!dataTable) return;\n",
              "\n",
              "          const docLinkHtml = 'Like what you see? Visit the ' +\n",
              "            '<a target=\"_blank\" href=https://colab.research.google.com/notebooks/data_table.ipynb>data table notebook</a>'\n",
              "            + ' to learn more about interactive tables.';\n",
              "          element.innerHTML = '';\n",
              "          dataTable['output_type'] = 'display_data';\n",
              "          await google.colab.output.renderOutput(dataTable, element);\n",
              "          const docLink = document.createElement('div');\n",
              "          docLink.innerHTML = docLinkHtml;\n",
              "          element.appendChild(docLink);\n",
              "        }\n",
              "      </script>\n",
              "    </div>\n",
              "  </div>\n",
              "  "
            ],
            "text/plain": [
              "     Label                                                SMS\n",
              "0      ham  Go until jurong point, crazy.. Available only ...\n",
              "1      ham                      Ok lar... Joking wif u oni...\n",
              "3      ham  U dun say so early hor... U c already then say...\n",
              "4      ham  Nah I don't think he goes to usf, he lives aro...\n",
              "6      ham  Even my brother is not like to speak with me. ...\n",
              "...    ...                                                ...\n",
              "5565   ham                                       Huh y lei...\n",
              "5568   ham               Will ü b going to esplanade fr home?\n",
              "5569   ham  Pity, * was in mood for that. So...any other s...\n",
              "5570   ham  The guy did some bitching but I acted like i'd...\n",
              "5571   ham                         Rofl. Its true to its name\n",
              "\n",
              "[4825 rows x 2 columns]"
            ]
          },
          "execution_count": 20,
          "metadata": {},
          "output_type": "execute_result"
        }
      ],
      "source": [
        "sms_spam[sms_spam['Label'] == 'ham']"
      ]
    },
    {
      "cell_type": "markdown",
      "metadata": {
        "id": "vjw6Bttbd1ht"
      },
      "source": []
    },
    {
      "cell_type": "markdown",
      "metadata": {
        "id": "rFjjcIwad1cs"
      },
      "source": [
        "\n",
        "Given the above data we want to predict if a given sms is **spam** or not (also called **ham**).\n",
        "One way to think about this problem is using Bayes' Theorem. In terms of probability we want to find out the $P(Spam | SMS)$\n",
        "\n",
        "\\begin{align}\n",
        "P(Spam | SMS) = \\frac{P(Spam) P(SMS|Spam) } {P(Spam) P(SMS|Spam) + P(Ham) P(SMS|Ham)}\n",
        "\\end{align}\n",
        "where $P(Spam)$ is the prior probability of an sms being spam. $P(SMS|Spam)$ is the likelihood of a sms being spam.\n",
        "\n",
        "Note that we need to estimate $P(Spam | SMS)$ which is the posterior probability of a SMS being spam.\n"
      ]
    },
    {
      "cell_type": "markdown",
      "metadata": {
        "id": "2yrjomW2trfg"
      },
      "source": [
        "What is the prior probability of a message to be Spam?\n",
        "What is $P(Spam)$"
      ]
    },
    {
      "cell_type": "markdown",
      "metadata": {
        "id": "0HGNnHUh5MQr"
      },
      "source": [
        "\\begin{align}\n",
        "P(Spam) = \\frac{\\#Spam\\_SMS}{\\#SMS}\n",
        "\\end{align}\n",
        "\n",
        "In the next cell write code for calculating $P(Spam)$"
      ]
    },
    {
      "cell_type": "code",
      "execution_count": null,
      "metadata": {
        "colab": {
          "base_uri": "https://localhost:8080/"
        },
        "id": "JtVON2l5R9GR",
        "outputId": "403f7a20-52b1-4359-b413-a28ab2a2ce81"
      },
      "outputs": [
        {
          "data": {
            "text/plain": [
              "ham     0.865937\n",
              "spam    0.134063\n",
              "Name: Label, dtype: float64"
            ]
          },
          "execution_count": 21,
          "metadata": {},
          "output_type": "execute_result"
        }
      ],
      "source": [
        "## your code here\n",
        "sms_spam['Label'].value_counts(normalize=True)"
      ]
    },
    {
      "cell_type": "markdown",
      "metadata": {
        "id": "oXBQnNaM6C_P"
      },
      "source": [
        "What is $P(Ham)$?"
      ]
    },
    {
      "cell_type": "code",
      "execution_count": null,
      "metadata": {
        "colab": {
          "base_uri": "https://localhost:8080/"
        },
        "id": "GPbBL8ry-3Dw",
        "outputId": "144b860a-9b8c-4dba-85a0-041dbd18b5ba"
      },
      "outputs": [
        {
          "data": {
            "text/plain": [
              "ham     0.865937\n",
              "spam    0.134063\n",
              "Name: Label, dtype: float64"
            ]
          },
          "execution_count": 22,
          "metadata": {},
          "output_type": "execute_result"
        }
      ],
      "source": [
        "## your code here\n",
        "sms_spam['Label'].value_counts(normalize=True)"
      ]
    },
    {
      "cell_type": "markdown",
      "metadata": {
        "id": "5QoLzgEats5m"
      },
      "source": [
        "**Training and Test Set**\n",
        "\n",
        "In machine learning, we need to split our dataset into a training set and a test set. We'll use 80% of the data for training and the remaining 20% for testing.\n",
        "\n",
        "Training data is the set on which we need to estimate the probabilities. We will apply this estimate to decide whether a message is spam or ham in the test set and measure accuracy.\n",
        "\n",
        "Can you explain why we need to split the data into a training and test set?"
      ]
    },
    {
      "cell_type": "code",
      "execution_count": null,
      "metadata": {
        "colab": {
          "base_uri": "https://localhost:8080/"
        },
        "id": "YCfRIf4Jr6yr",
        "outputId": "bf232cbe-2c0b-4016-d7b5-edd12e3c6aac"
      },
      "outputs": [
        {
          "name": "stdout",
          "output_type": "stream",
          "text": [
            "(4458, 2)\n",
            "(1114, 2)\n"
          ]
        }
      ],
      "source": [
        "# Randomize the dataset\n",
        "data_randomized = sms_spam.sample(frac=1, random_state=1)\n",
        "\n",
        "# Calculate index for split\n",
        "training_test_index = round(len(data_randomized) * 0.8)\n",
        "\n",
        "# Split into training and test sets\n",
        "training_set = data_randomized[:training_test_index].reset_index(drop=True)\n",
        "test_set = data_randomized[training_test_index:].reset_index(drop=True)\n",
        "\n",
        "print(training_set.shape)\n",
        "print(test_set.shape)"
      ]
    },
    {
      "cell_type": "code",
      "execution_count": null,
      "metadata": {
        "id": "cSn7Z4pCG-oW"
      },
      "outputs": [],
      "source": []
    },
    {
      "cell_type": "code",
      "execution_count": null,
      "metadata": {
        "id": "Skl2CSDiG-lf"
      },
      "outputs": [],
      "source": []
    },
    {
      "cell_type": "code",
      "execution_count": null,
      "metadata": {
        "id": "9rgkDe77G-gL"
      },
      "outputs": [],
      "source": []
    },
    {
      "cell_type": "markdown",
      "metadata": {
        "id": "r5OgOeih6IpI"
      },
      "source": [
        "Next we need to calculate $P(SMS|Spam)$. This probability will tell us what is the likelihood of a SMS being spam.\n",
        "\n",
        "This is tricky. Why?\n",
        "\n",
        "First we need to understand what a **SMS** is made of. A **SMS** is sequence of words. We can represent a SMS as sequence of words $w_1, w_2 ... w_n$, where $w_i$ is the $i^{th}$  word.\n",
        "\n",
        "When we want to know the likelihood of a\n",
        "\n",
        "\\begin{align}\n",
        "P(SMS|Spam) = P(w_1, w_2 \\ldots w_n|Spam)\n",
        "\\end{align}\n",
        "\n",
        "$P(w_1, w_2 \\ldots w_n|Spam) $ looks scary!\n",
        "\n",
        "How do we calculate this?\n",
        "\n",
        "Let's understand this a little more. Let's take two SMS and understand this:\n",
        "\n",
        "`Spam SMS - \"WINNER!! As a valued network customer you have\"`\n",
        "\n",
        "`Ham SMS - \"Even my brother is not like to speak with me...\"`\n",
        "\n",
        "If we look at the words in the SMS we can tell which one is Spam and which one is Ham.\n",
        "\n",
        "But how are we really saying this?\n",
        "\n",
        "-> `By noticing the words in the SMS.`\n",
        "\n",
        "Notice the first SMS has words like \"winner, customer, network\" these are more likely to be associated with Spam messages. Where as second sms has words like \"brother, speak. me\" which are genuine words usually found in personal sms.\n",
        "\n",
        "Hence the word sequence $w_1, w_2 \\ldots w_n$ will be different for Spam and Ham sms and we want to estimate $P(w_1, w_2 \\ldots w_n|Spam)$.\n",
        "\n",
        "Remember probability can be estimated with counts. Let $c$ be the number of times word sequence $w_1, w_2 \\ldots w_n$ is found in data and $c_{spam}$ is the number of times it is marked as spam\n",
        "\n",
        "\\begin{align}\n",
        "P(w_1, w_2 \\ldots w_n|Spam) = \\frac{c_{spam}}{c}\n",
        "\\end{align}\n",
        "\n",
        "When $w_1, w_2 \\ldots w_n$ = \"WINNER!! As a valued network customer you have\" then we are trying to see how many times the same sms has come. Ideally this will be very rare that such exact sms comes multiple times so the probability estimates will be incorrect.\n",
        "\n",
        "To make better estimate we are going to make an assumption. What if the words $w1, w2 \\ldots w_n$ are independent?\n",
        "\\begin{align}\n",
        "P(w_1, w_2 \\ldots w_n|Spam) = P(w_1|Spam)P(w_2|Spam) \\ldots P(w_n|Spam)\n",
        "\\end{align}\n",
        "\n",
        "This follows from multiplicative rule of probability and independence assumption.\n",
        "Now if we want to calculate the likelihood of a SMS is spam then we can calculate\n",
        "\\begin{align}\n",
        "P(w_i|Spam) = \\frac{N_{i|spam}}{N_{spam}}\n",
        "\\end{align}\n",
        "where $N_{spam}$ is the number spam emails in the training set and $N_{i|spam}$ is the number of times the word is associated with a spam email.\n",
        "\n",
        "So for each word we need to calculate the counts of time it appears in training set, overall and by each SMS type - Spam and Ham.\n",
        "\n",
        "Then using Bayes' rule we can calculate the Posterior."
      ]
    },
    {
      "cell_type": "markdown",
      "metadata": {
        "id": "Bhc4mW8W6Ias"
      },
      "source": []
    },
    {
      "cell_type": "markdown",
      "metadata": {
        "id": "ZsyUH7cXHLLi"
      },
      "source": []
    },
    {
      "cell_type": "markdown",
      "metadata": {
        "id": "3O96u1QbHLIa"
      },
      "source": []
    },
    {
      "cell_type": "code",
      "execution_count": null,
      "metadata": {
        "id": "r7XVu5D4HKwb"
      },
      "outputs": [],
      "source": []
    },
    {
      "cell_type": "markdown",
      "metadata": {
        "id": "zFTszRXStuoQ"
      },
      "source": [
        "**Data Cleaning**\n",
        "\n",
        "When a new message comes in, our multinomial Naive Bayes algorithm will make the classification based on the results.\n",
        "\n",
        "To calculate all these probabilities, we'll first need to perform a bit of data cleaning to bring the data into a format that allows us to easily extract all the information we need. Currently, our training and test sets have this format (the messages below are fictitious to make the example easier to understand):\n"
      ]
    },
    {
      "cell_type": "code",
      "execution_count": null,
      "metadata": {
        "colab": {
          "base_uri": "https://localhost:8080/"
        },
        "id": "xf5s7tP0r7ET",
        "outputId": "69eb2df6-b50f-47f4-dba2-145b15f805da"
      },
      "outputs": [
        {
          "data": {
            "text/plain": [
              "ham     0.86541\n",
              "spam    0.13459\n",
              "Name: Label, dtype: float64"
            ]
          },
          "execution_count": 24,
          "metadata": {},
          "output_type": "execute_result"
        }
      ],
      "source": [
        "training_set['Label'].value_counts(normalize=True)"
      ]
    },
    {
      "cell_type": "code",
      "execution_count": null,
      "metadata": {
        "colab": {
          "base_uri": "https://localhost:8080/"
        },
        "id": "67XzC_d1r7Td",
        "outputId": "bd21f1f3-0d64-448b-91fe-cd1ee14cf870"
      },
      "outputs": [
        {
          "data": {
            "text/plain": [
              "ham     0.868043\n",
              "spam    0.131957\n",
              "Name: Label, dtype: float64"
            ]
          },
          "execution_count": 25,
          "metadata": {},
          "output_type": "execute_result"
        }
      ],
      "source": [
        "test_set['Label'].value_counts(normalize=True)"
      ]
    },
    {
      "cell_type": "code",
      "execution_count": null,
      "metadata": {
        "colab": {
          "base_uri": "https://localhost:8080/",
          "height": 143
        },
        "id": "NY2xREDFXt3i",
        "outputId": "c06f0e63-5f52-4eff-b62d-6678cbfada5c"
      },
      "outputs": [
        {
          "data": {
            "text/html": [
              "\n",
              "  <div id=\"df-07570651-d8e3-429b-ae81-c34140396fdc\">\n",
              "    <div class=\"colab-df-container\">\n",
              "      <div>\n",
              "<style scoped>\n",
              "    .dataframe tbody tr th:only-of-type {\n",
              "        vertical-align: middle;\n",
              "    }\n",
              "\n",
              "    .dataframe tbody tr th {\n",
              "        vertical-align: top;\n",
              "    }\n",
              "\n",
              "    .dataframe thead th {\n",
              "        text-align: right;\n",
              "    }\n",
              "</style>\n",
              "<table border=\"1\" class=\"dataframe\">\n",
              "  <thead>\n",
              "    <tr style=\"text-align: right;\">\n",
              "      <th></th>\n",
              "      <th>Label</th>\n",
              "      <th>SMS</th>\n",
              "    </tr>\n",
              "  </thead>\n",
              "  <tbody>\n",
              "    <tr>\n",
              "      <th>0</th>\n",
              "      <td>ham</td>\n",
              "      <td>Yep, by the pretty sculpture</td>\n",
              "    </tr>\n",
              "    <tr>\n",
              "      <th>1</th>\n",
              "      <td>ham</td>\n",
              "      <td>Yes, princess. Are you going to make me moan?</td>\n",
              "    </tr>\n",
              "    <tr>\n",
              "      <th>2</th>\n",
              "      <td>ham</td>\n",
              "      <td>Welp apparently he retired</td>\n",
              "    </tr>\n",
              "  </tbody>\n",
              "</table>\n",
              "</div>\n",
              "      <button class=\"colab-df-convert\" onclick=\"convertToInteractive('df-07570651-d8e3-429b-ae81-c34140396fdc')\"\n",
              "              title=\"Convert this dataframe to an interactive table.\"\n",
              "              style=\"display:none;\">\n",
              "        \n",
              "  <svg xmlns=\"http://www.w3.org/2000/svg\" height=\"24px\"viewBox=\"0 0 24 24\"\n",
              "       width=\"24px\">\n",
              "    <path d=\"M0 0h24v24H0V0z\" fill=\"none\"/>\n",
              "    <path d=\"M18.56 5.44l.94 2.06.94-2.06 2.06-.94-2.06-.94-.94-2.06-.94 2.06-2.06.94zm-11 1L8.5 8.5l.94-2.06 2.06-.94-2.06-.94L8.5 2.5l-.94 2.06-2.06.94zm10 10l.94 2.06.94-2.06 2.06-.94-2.06-.94-.94-2.06-.94 2.06-2.06.94z\"/><path d=\"M17.41 7.96l-1.37-1.37c-.4-.4-.92-.59-1.43-.59-.52 0-1.04.2-1.43.59L10.3 9.45l-7.72 7.72c-.78.78-.78 2.05 0 2.83L4 21.41c.39.39.9.59 1.41.59.51 0 1.02-.2 1.41-.59l7.78-7.78 2.81-2.81c.8-.78.8-2.07 0-2.86zM5.41 20L4 18.59l7.72-7.72 1.47 1.35L5.41 20z\"/>\n",
              "  </svg>\n",
              "      </button>\n",
              "      \n",
              "  <style>\n",
              "    .colab-df-container {\n",
              "      display:flex;\n",
              "      flex-wrap:wrap;\n",
              "      gap: 12px;\n",
              "    }\n",
              "\n",
              "    .colab-df-convert {\n",
              "      background-color: #E8F0FE;\n",
              "      border: none;\n",
              "      border-radius: 50%;\n",
              "      cursor: pointer;\n",
              "      display: none;\n",
              "      fill: #1967D2;\n",
              "      height: 32px;\n",
              "      padding: 0 0 0 0;\n",
              "      width: 32px;\n",
              "    }\n",
              "\n",
              "    .colab-df-convert:hover {\n",
              "      background-color: #E2EBFA;\n",
              "      box-shadow: 0px 1px 2px rgba(60, 64, 67, 0.3), 0px 1px 3px 1px rgba(60, 64, 67, 0.15);\n",
              "      fill: #174EA6;\n",
              "    }\n",
              "\n",
              "    [theme=dark] .colab-df-convert {\n",
              "      background-color: #3B4455;\n",
              "      fill: #D2E3FC;\n",
              "    }\n",
              "\n",
              "    [theme=dark] .colab-df-convert:hover {\n",
              "      background-color: #434B5C;\n",
              "      box-shadow: 0px 1px 3px 1px rgba(0, 0, 0, 0.15);\n",
              "      filter: drop-shadow(0px 1px 2px rgba(0, 0, 0, 0.3));\n",
              "      fill: #FFFFFF;\n",
              "    }\n",
              "  </style>\n",
              "\n",
              "      <script>\n",
              "        const buttonEl =\n",
              "          document.querySelector('#df-07570651-d8e3-429b-ae81-c34140396fdc button.colab-df-convert');\n",
              "        buttonEl.style.display =\n",
              "          google.colab.kernel.accessAllowed ? 'block' : 'none';\n",
              "\n",
              "        async function convertToInteractive(key) {\n",
              "          const element = document.querySelector('#df-07570651-d8e3-429b-ae81-c34140396fdc');\n",
              "          const dataTable =\n",
              "            await google.colab.kernel.invokeFunction('convertToInteractive',\n",
              "                                                     [key], {});\n",
              "          if (!dataTable) return;\n",
              "\n",
              "          const docLinkHtml = 'Like what you see? Visit the ' +\n",
              "            '<a target=\"_blank\" href=https://colab.research.google.com/notebooks/data_table.ipynb>data table notebook</a>'\n",
              "            + ' to learn more about interactive tables.';\n",
              "          element.innerHTML = '';\n",
              "          dataTable['output_type'] = 'display_data';\n",
              "          await google.colab.output.renderOutput(dataTable, element);\n",
              "          const docLink = document.createElement('div');\n",
              "          docLink.innerHTML = docLinkHtml;\n",
              "          element.appendChild(docLink);\n",
              "        }\n",
              "      </script>\n",
              "    </div>\n",
              "  </div>\n",
              "  "
            ],
            "text/plain": [
              "  Label                                            SMS\n",
              "0   ham                   Yep, by the pretty sculpture\n",
              "1   ham  Yes, princess. Are you going to make me moan?\n",
              "2   ham                     Welp apparently he retired"
            ]
          },
          "execution_count": 26,
          "metadata": {},
          "output_type": "execute_result"
        }
      ],
      "source": [
        "# Before cleaning\n",
        "training_set.head(3)"
      ]
    },
    {
      "cell_type": "markdown",
      "metadata": {
        "id": "Ealk2sKSJVK9"
      },
      "source": [
        "**Letter Case and Punctuation**\n",
        "\n",
        "Let's begin the data cleaning process by removing the punctuation and making all the words lowercase."
      ]
    },
    {
      "cell_type": "markdown",
      "metadata": {
        "id": "HRmCUOfntyg8"
      },
      "source": []
    },
    {
      "cell_type": "code",
      "execution_count": null,
      "metadata": {
        "colab": {
          "base_uri": "https://localhost:8080/",
          "height": 180
        },
        "id": "jEWyIWwZXt6F",
        "outputId": "662a8eff-356e-49c4-8665-566b18c3db7a"
      },
      "outputs": [
        {
          "name": "stderr",
          "output_type": "stream",
          "text": [
            "<ipython-input-27-82891ec54ccc>:2: FutureWarning: The default value of regex will change from True to False in a future version.\n",
            "  training_set['SMS'] = training_set['SMS'].str.replace(\n"
          ]
        },
        {
          "data": {
            "text/html": [
              "\n",
              "  <div id=\"df-0e055b7b-52d6-45d9-9809-0f76407c31e5\">\n",
              "    <div class=\"colab-df-container\">\n",
              "      <div>\n",
              "<style scoped>\n",
              "    .dataframe tbody tr th:only-of-type {\n",
              "        vertical-align: middle;\n",
              "    }\n",
              "\n",
              "    .dataframe tbody tr th {\n",
              "        vertical-align: top;\n",
              "    }\n",
              "\n",
              "    .dataframe thead th {\n",
              "        text-align: right;\n",
              "    }\n",
              "</style>\n",
              "<table border=\"1\" class=\"dataframe\">\n",
              "  <thead>\n",
              "    <tr style=\"text-align: right;\">\n",
              "      <th></th>\n",
              "      <th>Label</th>\n",
              "      <th>SMS</th>\n",
              "    </tr>\n",
              "  </thead>\n",
              "  <tbody>\n",
              "    <tr>\n",
              "      <th>0</th>\n",
              "      <td>ham</td>\n",
              "      <td>yep  by the pretty sculpture</td>\n",
              "    </tr>\n",
              "    <tr>\n",
              "      <th>1</th>\n",
              "      <td>ham</td>\n",
              "      <td>yes  princess  are you going to make me moan</td>\n",
              "    </tr>\n",
              "    <tr>\n",
              "      <th>2</th>\n",
              "      <td>ham</td>\n",
              "      <td>welp apparently he retired</td>\n",
              "    </tr>\n",
              "  </tbody>\n",
              "</table>\n",
              "</div>\n",
              "      <button class=\"colab-df-convert\" onclick=\"convertToInteractive('df-0e055b7b-52d6-45d9-9809-0f76407c31e5')\"\n",
              "              title=\"Convert this dataframe to an interactive table.\"\n",
              "              style=\"display:none;\">\n",
              "        \n",
              "  <svg xmlns=\"http://www.w3.org/2000/svg\" height=\"24px\"viewBox=\"0 0 24 24\"\n",
              "       width=\"24px\">\n",
              "    <path d=\"M0 0h24v24H0V0z\" fill=\"none\"/>\n",
              "    <path d=\"M18.56 5.44l.94 2.06.94-2.06 2.06-.94-2.06-.94-.94-2.06-.94 2.06-2.06.94zm-11 1L8.5 8.5l.94-2.06 2.06-.94-2.06-.94L8.5 2.5l-.94 2.06-2.06.94zm10 10l.94 2.06.94-2.06 2.06-.94-2.06-.94-.94-2.06-.94 2.06-2.06.94z\"/><path d=\"M17.41 7.96l-1.37-1.37c-.4-.4-.92-.59-1.43-.59-.52 0-1.04.2-1.43.59L10.3 9.45l-7.72 7.72c-.78.78-.78 2.05 0 2.83L4 21.41c.39.39.9.59 1.41.59.51 0 1.02-.2 1.41-.59l7.78-7.78 2.81-2.81c.8-.78.8-2.07 0-2.86zM5.41 20L4 18.59l7.72-7.72 1.47 1.35L5.41 20z\"/>\n",
              "  </svg>\n",
              "      </button>\n",
              "      \n",
              "  <style>\n",
              "    .colab-df-container {\n",
              "      display:flex;\n",
              "      flex-wrap:wrap;\n",
              "      gap: 12px;\n",
              "    }\n",
              "\n",
              "    .colab-df-convert {\n",
              "      background-color: #E8F0FE;\n",
              "      border: none;\n",
              "      border-radius: 50%;\n",
              "      cursor: pointer;\n",
              "      display: none;\n",
              "      fill: #1967D2;\n",
              "      height: 32px;\n",
              "      padding: 0 0 0 0;\n",
              "      width: 32px;\n",
              "    }\n",
              "\n",
              "    .colab-df-convert:hover {\n",
              "      background-color: #E2EBFA;\n",
              "      box-shadow: 0px 1px 2px rgba(60, 64, 67, 0.3), 0px 1px 3px 1px rgba(60, 64, 67, 0.15);\n",
              "      fill: #174EA6;\n",
              "    }\n",
              "\n",
              "    [theme=dark] .colab-df-convert {\n",
              "      background-color: #3B4455;\n",
              "      fill: #D2E3FC;\n",
              "    }\n",
              "\n",
              "    [theme=dark] .colab-df-convert:hover {\n",
              "      background-color: #434B5C;\n",
              "      box-shadow: 0px 1px 3px 1px rgba(0, 0, 0, 0.15);\n",
              "      filter: drop-shadow(0px 1px 2px rgba(0, 0, 0, 0.3));\n",
              "      fill: #FFFFFF;\n",
              "    }\n",
              "  </style>\n",
              "\n",
              "      <script>\n",
              "        const buttonEl =\n",
              "          document.querySelector('#df-0e055b7b-52d6-45d9-9809-0f76407c31e5 button.colab-df-convert');\n",
              "        buttonEl.style.display =\n",
              "          google.colab.kernel.accessAllowed ? 'block' : 'none';\n",
              "\n",
              "        async function convertToInteractive(key) {\n",
              "          const element = document.querySelector('#df-0e055b7b-52d6-45d9-9809-0f76407c31e5');\n",
              "          const dataTable =\n",
              "            await google.colab.kernel.invokeFunction('convertToInteractive',\n",
              "                                                     [key], {});\n",
              "          if (!dataTable) return;\n",
              "\n",
              "          const docLinkHtml = 'Like what you see? Visit the ' +\n",
              "            '<a target=\"_blank\" href=https://colab.research.google.com/notebooks/data_table.ipynb>data table notebook</a>'\n",
              "            + ' to learn more about interactive tables.';\n",
              "          element.innerHTML = '';\n",
              "          dataTable['output_type'] = 'display_data';\n",
              "          await google.colab.output.renderOutput(dataTable, element);\n",
              "          const docLink = document.createElement('div');\n",
              "          docLink.innerHTML = docLinkHtml;\n",
              "          element.appendChild(docLink);\n",
              "        }\n",
              "      </script>\n",
              "    </div>\n",
              "  </div>\n",
              "  "
            ],
            "text/plain": [
              "  Label                                            SMS\n",
              "0   ham                   yep  by the pretty sculpture\n",
              "1   ham  yes  princess  are you going to make me moan \n",
              "2   ham                     welp apparently he retired"
            ]
          },
          "execution_count": 27,
          "metadata": {},
          "output_type": "execute_result"
        }
      ],
      "source": [
        "# After cleaning\n",
        "training_set['SMS'] = training_set['SMS'].str.replace(\n",
        "   '\\W', ' ') # Removes punctuation\n",
        "training_set['SMS'] = training_set['SMS'].str.lower()\n",
        "training_set.head(3)"
      ]
    },
    {
      "cell_type": "markdown",
      "metadata": {
        "id": "s83I0UmBt0TB"
      },
      "source": [
        "**Creating the Vocabulary**\n",
        "\n",
        "Vocabulary is the set of word in the training set. Vocabulary is like dictionary, it is collection of all possible set of words in the training set. First we need to keep track of all words and post that we can calculate counts for each.\n",
        "We will store the set of all unique words in training data in a list or dictionary in python"
      ]
    },
    {
      "cell_type": "code",
      "execution_count": null,
      "metadata": {
        "id": "CR_KEzh_Xt8W"
      },
      "outputs": [],
      "source": [
        "\n",
        "#your code here\n",
        "training_set['SMS'] = training_set['SMS'].str.split()\n",
        "\n",
        "vocabulary = []\n",
        "for sms in training_set['SMS']:\n",
        "   for word in sms:\n",
        "      vocabulary.append(word)\n",
        "\n",
        "vocabulary = list(set(vocabulary))"
      ]
    },
    {
      "cell_type": "markdown",
      "metadata": {
        "id": "BKLQIYWmJ6GW"
      },
      "source": [
        "It looks like there are 7,783 unique words in all the messages of our training set."
      ]
    },
    {
      "cell_type": "code",
      "execution_count": null,
      "metadata": {
        "colab": {
          "base_uri": "https://localhost:8080/"
        },
        "id": "0yRUhR4vXt_N",
        "outputId": "d3f55a8a-95a4-4017-a8a5-73e84bd39b1b"
      },
      "outputs": [
        {
          "data": {
            "text/plain": [
              "7783"
            ]
          },
          "execution_count": 29,
          "metadata": {},
          "output_type": "execute_result"
        }
      ],
      "source": [
        "#expected answer if vocabulary is your list or\n",
        "len(vocabulary)"
      ]
    },
    {
      "cell_type": "markdown",
      "metadata": {
        "id": "ARfueOaWt2tr"
      },
      "source": [
        "**How do we count?**\n",
        "\n",
        "Suppose we have 3 sentence \"secret prize! secret prize! claim now\", \"coming to my secret party?\" and \"secret prize claim winner\"\n",
        "\n",
        "Then for each words we will keep a list of size 3 - same as the number of sentence.\n",
        "\n",
        "Note that in the cell below, for the first word 'secret,' it occurs twice in the first sentence, but we still count 1 for it. It occurs once in the second sentence and the third sentence, so it has 1 in all the indices. The word 'winner' appears only in the last sentence and has an entry in the last index.\n",
        "\n",
        "Similarly for other words, we keep the count.\n",
        "\n",
        "We have total 7783 words and 4458 sentences. So for each word we need to keep a list of 4458 where each index will store how many times the word appears in that sentence.\n"
      ]
    },
    {
      "cell_type": "code",
      "execution_count": null,
      "metadata": {
        "colab": {
          "base_uri": "https://localhost:8080/",
          "height": 143
        },
        "id": "E237XRI7Y1BY",
        "outputId": "ab7467d2-d424-4a9b-9dab-f68aad74e3aa"
      },
      "outputs": [
        {
          "data": {
            "text/html": [
              "\n",
              "  <div id=\"df-43059254-360a-484d-adb0-32b8422b13ea\">\n",
              "    <div class=\"colab-df-container\">\n",
              "      <div>\n",
              "<style scoped>\n",
              "    .dataframe tbody tr th:only-of-type {\n",
              "        vertical-align: middle;\n",
              "    }\n",
              "\n",
              "    .dataframe tbody tr th {\n",
              "        vertical-align: top;\n",
              "    }\n",
              "\n",
              "    .dataframe thead th {\n",
              "        text-align: right;\n",
              "    }\n",
              "</style>\n",
              "<table border=\"1\" class=\"dataframe\">\n",
              "  <thead>\n",
              "    <tr style=\"text-align: right;\">\n",
              "      <th></th>\n",
              "      <th>secret</th>\n",
              "      <th>prize</th>\n",
              "      <th>claim</th>\n",
              "      <th>now</th>\n",
              "      <th>coming</th>\n",
              "      <th>to</th>\n",
              "      <th>my</th>\n",
              "      <th>party</th>\n",
              "      <th>winner</th>\n",
              "    </tr>\n",
              "  </thead>\n",
              "  <tbody>\n",
              "    <tr>\n",
              "      <th>0</th>\n",
              "      <td>1</td>\n",
              "      <td>1</td>\n",
              "      <td>1</td>\n",
              "      <td>1</td>\n",
              "      <td>0</td>\n",
              "      <td>0</td>\n",
              "      <td>0</td>\n",
              "      <td>0</td>\n",
              "      <td>0</td>\n",
              "    </tr>\n",
              "    <tr>\n",
              "      <th>1</th>\n",
              "      <td>1</td>\n",
              "      <td>0</td>\n",
              "      <td>0</td>\n",
              "      <td>0</td>\n",
              "      <td>1</td>\n",
              "      <td>1</td>\n",
              "      <td>1</td>\n",
              "      <td>1</td>\n",
              "      <td>0</td>\n",
              "    </tr>\n",
              "    <tr>\n",
              "      <th>2</th>\n",
              "      <td>1</td>\n",
              "      <td>1</td>\n",
              "      <td>1</td>\n",
              "      <td>1</td>\n",
              "      <td>0</td>\n",
              "      <td>0</td>\n",
              "      <td>0</td>\n",
              "      <td>0</td>\n",
              "      <td>1</td>\n",
              "    </tr>\n",
              "  </tbody>\n",
              "</table>\n",
              "</div>\n",
              "      <button class=\"colab-df-convert\" onclick=\"convertToInteractive('df-43059254-360a-484d-adb0-32b8422b13ea')\"\n",
              "              title=\"Convert this dataframe to an interactive table.\"\n",
              "              style=\"display:none;\">\n",
              "        \n",
              "  <svg xmlns=\"http://www.w3.org/2000/svg\" height=\"24px\"viewBox=\"0 0 24 24\"\n",
              "       width=\"24px\">\n",
              "    <path d=\"M0 0h24v24H0V0z\" fill=\"none\"/>\n",
              "    <path d=\"M18.56 5.44l.94 2.06.94-2.06 2.06-.94-2.06-.94-.94-2.06-.94 2.06-2.06.94zm-11 1L8.5 8.5l.94-2.06 2.06-.94-2.06-.94L8.5 2.5l-.94 2.06-2.06.94zm10 10l.94 2.06.94-2.06 2.06-.94-2.06-.94-.94-2.06-.94 2.06-2.06.94z\"/><path d=\"M17.41 7.96l-1.37-1.37c-.4-.4-.92-.59-1.43-.59-.52 0-1.04.2-1.43.59L10.3 9.45l-7.72 7.72c-.78.78-.78 2.05 0 2.83L4 21.41c.39.39.9.59 1.41.59.51 0 1.02-.2 1.41-.59l7.78-7.78 2.81-2.81c.8-.78.8-2.07 0-2.86zM5.41 20L4 18.59l7.72-7.72 1.47 1.35L5.41 20z\"/>\n",
              "  </svg>\n",
              "      </button>\n",
              "      \n",
              "  <style>\n",
              "    .colab-df-container {\n",
              "      display:flex;\n",
              "      flex-wrap:wrap;\n",
              "      gap: 12px;\n",
              "    }\n",
              "\n",
              "    .colab-df-convert {\n",
              "      background-color: #E8F0FE;\n",
              "      border: none;\n",
              "      border-radius: 50%;\n",
              "      cursor: pointer;\n",
              "      display: none;\n",
              "      fill: #1967D2;\n",
              "      height: 32px;\n",
              "      padding: 0 0 0 0;\n",
              "      width: 32px;\n",
              "    }\n",
              "\n",
              "    .colab-df-convert:hover {\n",
              "      background-color: #E2EBFA;\n",
              "      box-shadow: 0px 1px 2px rgba(60, 64, 67, 0.3), 0px 1px 3px 1px rgba(60, 64, 67, 0.15);\n",
              "      fill: #174EA6;\n",
              "    }\n",
              "\n",
              "    [theme=dark] .colab-df-convert {\n",
              "      background-color: #3B4455;\n",
              "      fill: #D2E3FC;\n",
              "    }\n",
              "\n",
              "    [theme=dark] .colab-df-convert:hover {\n",
              "      background-color: #434B5C;\n",
              "      box-shadow: 0px 1px 3px 1px rgba(0, 0, 0, 0.15);\n",
              "      filter: drop-shadow(0px 1px 2px rgba(0, 0, 0, 0.3));\n",
              "      fill: #FFFFFF;\n",
              "    }\n",
              "  </style>\n",
              "\n",
              "      <script>\n",
              "        const buttonEl =\n",
              "          document.querySelector('#df-43059254-360a-484d-adb0-32b8422b13ea button.colab-df-convert');\n",
              "        buttonEl.style.display =\n",
              "          google.colab.kernel.accessAllowed ? 'block' : 'none';\n",
              "\n",
              "        async function convertToInteractive(key) {\n",
              "          const element = document.querySelector('#df-43059254-360a-484d-adb0-32b8422b13ea');\n",
              "          const dataTable =\n",
              "            await google.colab.kernel.invokeFunction('convertToInteractive',\n",
              "                                                     [key], {});\n",
              "          if (!dataTable) return;\n",
              "\n",
              "          const docLinkHtml = 'Like what you see? Visit the ' +\n",
              "            '<a target=\"_blank\" href=https://colab.research.google.com/notebooks/data_table.ipynb>data table notebook</a>'\n",
              "            + ' to learn more about interactive tables.';\n",
              "          element.innerHTML = '';\n",
              "          dataTable['output_type'] = 'display_data';\n",
              "          await google.colab.output.renderOutput(dataTable, element);\n",
              "          const docLink = document.createElement('div');\n",
              "          docLink.innerHTML = docLinkHtml;\n",
              "          element.appendChild(docLink);\n",
              "        }\n",
              "      </script>\n",
              "    </div>\n",
              "  </div>\n",
              "  "
            ],
            "text/plain": [
              "   secret  prize  claim  now  coming  to  my  party  winner\n",
              "0       1      1      1    1       0   0   0      0       0\n",
              "1       1      0      0    0       1   1   1      1       0\n",
              "2       1      1      1    1       0   0   0      0       1"
            ]
          },
          "execution_count": 30,
          "metadata": {},
          "output_type": "execute_result"
        }
      ],
      "source": [
        "word_counts_per_sms = {'secret': [1,1,1],\n",
        "                       'prize': [1,0,1],\n",
        "                       'claim': [1,0,1],\n",
        "                       'now': [1,0,1],\n",
        "                       'coming': [0,1,0],\n",
        "                       'to': [0,1,0],\n",
        "                       'my': [0,1,0],\n",
        "                       'party': [0,1,0],\n",
        "                       'winner': [0,0,1]\n",
        "                      }\n",
        "\n",
        "word_counts = pd.DataFrame(word_counts_per_sms)\n",
        "word_counts.head()"
      ]
    },
    {
      "cell_type": "markdown",
      "metadata": {
        "id": "pRArK4HvLty8"
      },
      "source": [
        "To create the dictionary we need for our training set, we can use the code below:\n",
        "\n",
        "We start by initializing a dictionary named word_counts_per_sms, where each key is a unique word (a string) from the vocabulary, and each value is a list of the length of the training set, where each element in that list is a 0.\n",
        "\n",
        "The code [0] * 5 outputs [0, 0, 0, 0, 0]. So the code [0] * len(training_set['SMS']) outputs a list of the length of training_set['SMS'].\n",
        "\n",
        "We loop over training_set['SMS'] using the enumerate() function to get both the index and the SMS message (index and sms).\n",
        "\n",
        "Using a nested loop, we loop over sms (where sms is a list of strings, where each string represents a word in a message).\n",
        "\n",
        "We increment word_counts_per_sms[word][index] by 1."
      ]
    },
    {
      "cell_type": "code",
      "execution_count": null,
      "metadata": {
        "id": "NPSD0N2UY1EF"
      },
      "outputs": [],
      "source": [
        "word_counts_per_sms = {unique_word: [0] * len(training_set['SMS']) for unique_word in vocabulary}\n",
        "\n",
        "\n",
        "\n",
        "#your code here to calculate word_counts_per_sms\n",
        "\n",
        "for index, sms in enumerate(training_set['SMS']):\n",
        "   for word in sms:\n",
        "      word_counts_per_sms[word][index] = 1"
      ]
    },
    {
      "cell_type": "markdown",
      "metadata": {
        "id": "tWAxRVBvt4By"
      },
      "source": [
        "Now that we have the dictionary we need, let's do the final transformations to our training set."
      ]
    },
    {
      "cell_type": "code",
      "execution_count": null,
      "metadata": {
        "colab": {
          "base_uri": "https://localhost:8080/",
          "height": 236
        },
        "id": "-EWJ2mHkY1G4",
        "outputId": "58c9d0a0-45fd-4085-b613-021faefb8736"
      },
      "outputs": [
        {
          "data": {
            "text/html": [
              "\n",
              "  <div id=\"df-10765a7c-d82a-46a8-bd18-2f919584fb55\">\n",
              "    <div class=\"colab-df-container\">\n",
              "      <div>\n",
              "<style scoped>\n",
              "    .dataframe tbody tr th:only-of-type {\n",
              "        vertical-align: middle;\n",
              "    }\n",
              "\n",
              "    .dataframe tbody tr th {\n",
              "        vertical-align: top;\n",
              "    }\n",
              "\n",
              "    .dataframe thead th {\n",
              "        text-align: right;\n",
              "    }\n",
              "</style>\n",
              "<table border=\"1\" class=\"dataframe\">\n",
              "  <thead>\n",
              "    <tr style=\"text-align: right;\">\n",
              "      <th></th>\n",
              "      <th>myself</th>\n",
              "      <th>lingo</th>\n",
              "      <th>term</th>\n",
              "      <th>81303</th>\n",
              "      <th>habit</th>\n",
              "      <th>0089</th>\n",
              "      <th>shakara</th>\n",
              "      <th>signing</th>\n",
              "      <th>wrc</th>\n",
              "      <th>anything</th>\n",
              "      <th>...</th>\n",
              "      <th>cup</th>\n",
              "      <th>tncs</th>\n",
              "      <th>offline</th>\n",
              "      <th>monthlysubscription</th>\n",
              "      <th>eveb</th>\n",
              "      <th>stay</th>\n",
              "      <th>japanese</th>\n",
              "      <th>nightnight</th>\n",
              "      <th>up</th>\n",
              "      <th>clearer</th>\n",
              "    </tr>\n",
              "  </thead>\n",
              "  <tbody>\n",
              "    <tr>\n",
              "      <th>0</th>\n",
              "      <td>0</td>\n",
              "      <td>0</td>\n",
              "      <td>0</td>\n",
              "      <td>0</td>\n",
              "      <td>0</td>\n",
              "      <td>0</td>\n",
              "      <td>0</td>\n",
              "      <td>0</td>\n",
              "      <td>0</td>\n",
              "      <td>0</td>\n",
              "      <td>...</td>\n",
              "      <td>0</td>\n",
              "      <td>0</td>\n",
              "      <td>0</td>\n",
              "      <td>0</td>\n",
              "      <td>0</td>\n",
              "      <td>0</td>\n",
              "      <td>0</td>\n",
              "      <td>0</td>\n",
              "      <td>0</td>\n",
              "      <td>0</td>\n",
              "    </tr>\n",
              "    <tr>\n",
              "      <th>1</th>\n",
              "      <td>0</td>\n",
              "      <td>0</td>\n",
              "      <td>0</td>\n",
              "      <td>0</td>\n",
              "      <td>0</td>\n",
              "      <td>0</td>\n",
              "      <td>0</td>\n",
              "      <td>0</td>\n",
              "      <td>0</td>\n",
              "      <td>0</td>\n",
              "      <td>...</td>\n",
              "      <td>0</td>\n",
              "      <td>0</td>\n",
              "      <td>0</td>\n",
              "      <td>0</td>\n",
              "      <td>0</td>\n",
              "      <td>0</td>\n",
              "      <td>0</td>\n",
              "      <td>0</td>\n",
              "      <td>0</td>\n",
              "      <td>0</td>\n",
              "    </tr>\n",
              "    <tr>\n",
              "      <th>2</th>\n",
              "      <td>0</td>\n",
              "      <td>0</td>\n",
              "      <td>0</td>\n",
              "      <td>0</td>\n",
              "      <td>0</td>\n",
              "      <td>0</td>\n",
              "      <td>0</td>\n",
              "      <td>0</td>\n",
              "      <td>0</td>\n",
              "      <td>0</td>\n",
              "      <td>...</td>\n",
              "      <td>0</td>\n",
              "      <td>0</td>\n",
              "      <td>0</td>\n",
              "      <td>0</td>\n",
              "      <td>0</td>\n",
              "      <td>0</td>\n",
              "      <td>0</td>\n",
              "      <td>0</td>\n",
              "      <td>0</td>\n",
              "      <td>0</td>\n",
              "    </tr>\n",
              "    <tr>\n",
              "      <th>3</th>\n",
              "      <td>0</td>\n",
              "      <td>0</td>\n",
              "      <td>0</td>\n",
              "      <td>0</td>\n",
              "      <td>0</td>\n",
              "      <td>0</td>\n",
              "      <td>0</td>\n",
              "      <td>0</td>\n",
              "      <td>0</td>\n",
              "      <td>0</td>\n",
              "      <td>...</td>\n",
              "      <td>0</td>\n",
              "      <td>0</td>\n",
              "      <td>0</td>\n",
              "      <td>0</td>\n",
              "      <td>0</td>\n",
              "      <td>0</td>\n",
              "      <td>0</td>\n",
              "      <td>0</td>\n",
              "      <td>0</td>\n",
              "      <td>0</td>\n",
              "    </tr>\n",
              "    <tr>\n",
              "      <th>4</th>\n",
              "      <td>0</td>\n",
              "      <td>0</td>\n",
              "      <td>0</td>\n",
              "      <td>0</td>\n",
              "      <td>0</td>\n",
              "      <td>0</td>\n",
              "      <td>0</td>\n",
              "      <td>0</td>\n",
              "      <td>0</td>\n",
              "      <td>0</td>\n",
              "      <td>...</td>\n",
              "      <td>0</td>\n",
              "      <td>0</td>\n",
              "      <td>0</td>\n",
              "      <td>0</td>\n",
              "      <td>0</td>\n",
              "      <td>0</td>\n",
              "      <td>0</td>\n",
              "      <td>0</td>\n",
              "      <td>0</td>\n",
              "      <td>0</td>\n",
              "    </tr>\n",
              "  </tbody>\n",
              "</table>\n",
              "<p>5 rows × 7783 columns</p>\n",
              "</div>\n",
              "      <button class=\"colab-df-convert\" onclick=\"convertToInteractive('df-10765a7c-d82a-46a8-bd18-2f919584fb55')\"\n",
              "              title=\"Convert this dataframe to an interactive table.\"\n",
              "              style=\"display:none;\">\n",
              "        \n",
              "  <svg xmlns=\"http://www.w3.org/2000/svg\" height=\"24px\"viewBox=\"0 0 24 24\"\n",
              "       width=\"24px\">\n",
              "    <path d=\"M0 0h24v24H0V0z\" fill=\"none\"/>\n",
              "    <path d=\"M18.56 5.44l.94 2.06.94-2.06 2.06-.94-2.06-.94-.94-2.06-.94 2.06-2.06.94zm-11 1L8.5 8.5l.94-2.06 2.06-.94-2.06-.94L8.5 2.5l-.94 2.06-2.06.94zm10 10l.94 2.06.94-2.06 2.06-.94-2.06-.94-.94-2.06-.94 2.06-2.06.94z\"/><path d=\"M17.41 7.96l-1.37-1.37c-.4-.4-.92-.59-1.43-.59-.52 0-1.04.2-1.43.59L10.3 9.45l-7.72 7.72c-.78.78-.78 2.05 0 2.83L4 21.41c.39.39.9.59 1.41.59.51 0 1.02-.2 1.41-.59l7.78-7.78 2.81-2.81c.8-.78.8-2.07 0-2.86zM5.41 20L4 18.59l7.72-7.72 1.47 1.35L5.41 20z\"/>\n",
              "  </svg>\n",
              "      </button>\n",
              "      \n",
              "  <style>\n",
              "    .colab-df-container {\n",
              "      display:flex;\n",
              "      flex-wrap:wrap;\n",
              "      gap: 12px;\n",
              "    }\n",
              "\n",
              "    .colab-df-convert {\n",
              "      background-color: #E8F0FE;\n",
              "      border: none;\n",
              "      border-radius: 50%;\n",
              "      cursor: pointer;\n",
              "      display: none;\n",
              "      fill: #1967D2;\n",
              "      height: 32px;\n",
              "      padding: 0 0 0 0;\n",
              "      width: 32px;\n",
              "    }\n",
              "\n",
              "    .colab-df-convert:hover {\n",
              "      background-color: #E2EBFA;\n",
              "      box-shadow: 0px 1px 2px rgba(60, 64, 67, 0.3), 0px 1px 3px 1px rgba(60, 64, 67, 0.15);\n",
              "      fill: #174EA6;\n",
              "    }\n",
              "\n",
              "    [theme=dark] .colab-df-convert {\n",
              "      background-color: #3B4455;\n",
              "      fill: #D2E3FC;\n",
              "    }\n",
              "\n",
              "    [theme=dark] .colab-df-convert:hover {\n",
              "      background-color: #434B5C;\n",
              "      box-shadow: 0px 1px 3px 1px rgba(0, 0, 0, 0.15);\n",
              "      filter: drop-shadow(0px 1px 2px rgba(0, 0, 0, 0.3));\n",
              "      fill: #FFFFFF;\n",
              "    }\n",
              "  </style>\n",
              "\n",
              "      <script>\n",
              "        const buttonEl =\n",
              "          document.querySelector('#df-10765a7c-d82a-46a8-bd18-2f919584fb55 button.colab-df-convert');\n",
              "        buttonEl.style.display =\n",
              "          google.colab.kernel.accessAllowed ? 'block' : 'none';\n",
              "\n",
              "        async function convertToInteractive(key) {\n",
              "          const element = document.querySelector('#df-10765a7c-d82a-46a8-bd18-2f919584fb55');\n",
              "          const dataTable =\n",
              "            await google.colab.kernel.invokeFunction('convertToInteractive',\n",
              "                                                     [key], {});\n",
              "          if (!dataTable) return;\n",
              "\n",
              "          const docLinkHtml = 'Like what you see? Visit the ' +\n",
              "            '<a target=\"_blank\" href=https://colab.research.google.com/notebooks/data_table.ipynb>data table notebook</a>'\n",
              "            + ' to learn more about interactive tables.';\n",
              "          element.innerHTML = '';\n",
              "          dataTable['output_type'] = 'display_data';\n",
              "          await google.colab.output.renderOutput(dataTable, element);\n",
              "          const docLink = document.createElement('div');\n",
              "          docLink.innerHTML = docLinkHtml;\n",
              "          element.appendChild(docLink);\n",
              "        }\n",
              "      </script>\n",
              "    </div>\n",
              "  </div>\n",
              "  "
            ],
            "text/plain": [
              "   myself  lingo  term  81303  habit  0089  shakara  signing  wrc  anything  \\\n",
              "0       0      0     0      0      0     0        0        0    0         0   \n",
              "1       0      0     0      0      0     0        0        0    0         0   \n",
              "2       0      0     0      0      0     0        0        0    0         0   \n",
              "3       0      0     0      0      0     0        0        0    0         0   \n",
              "4       0      0     0      0      0     0        0        0    0         0   \n",
              "\n",
              "   ...  cup  tncs  offline  monthlysubscription  eveb  stay  japanese  \\\n",
              "0  ...    0     0        0                    0     0     0         0   \n",
              "1  ...    0     0        0                    0     0     0         0   \n",
              "2  ...    0     0        0                    0     0     0         0   \n",
              "3  ...    0     0        0                    0     0     0         0   \n",
              "4  ...    0     0        0                    0     0     0         0   \n",
              "\n",
              "   nightnight  up  clearer  \n",
              "0           0   0        0  \n",
              "1           0   0        0  \n",
              "2           0   0        0  \n",
              "3           0   0        0  \n",
              "4           0   0        0  \n",
              "\n",
              "[5 rows x 7783 columns]"
            ]
          },
          "execution_count": 32,
          "metadata": {},
          "output_type": "execute_result"
        }
      ],
      "source": [
        "word_counts = pd.DataFrame(word_counts_per_sms)\n",
        "word_counts.head()"
      ]
    },
    {
      "cell_type": "markdown",
      "metadata": {
        "id": "yM8-DdtGt4_e"
      },
      "source": [
        "The Label column is missing, so we'll use the pd.concat() function to concatenate the DataFrame we just built with the DataFrame containing the training set. This way, we'll also have the Label and the SMS columns."
      ]
    },
    {
      "cell_type": "code",
      "execution_count": null,
      "metadata": {
        "colab": {
          "base_uri": "https://localhost:8080/",
          "height": 236
        },
        "id": "1hsjHgQiY1Js",
        "outputId": "7154daee-6c2c-49bf-deb6-c6b3a6e2555e"
      },
      "outputs": [
        {
          "data": {
            "text/html": [
              "\n",
              "  <div id=\"df-1e50c634-01cb-4619-b4f6-b2827f624979\">\n",
              "    <div class=\"colab-df-container\">\n",
              "      <div>\n",
              "<style scoped>\n",
              "    .dataframe tbody tr th:only-of-type {\n",
              "        vertical-align: middle;\n",
              "    }\n",
              "\n",
              "    .dataframe tbody tr th {\n",
              "        vertical-align: top;\n",
              "    }\n",
              "\n",
              "    .dataframe thead th {\n",
              "        text-align: right;\n",
              "    }\n",
              "</style>\n",
              "<table border=\"1\" class=\"dataframe\">\n",
              "  <thead>\n",
              "    <tr style=\"text-align: right;\">\n",
              "      <th></th>\n",
              "      <th>Label</th>\n",
              "      <th>SMS</th>\n",
              "      <th>myself</th>\n",
              "      <th>lingo</th>\n",
              "      <th>term</th>\n",
              "      <th>81303</th>\n",
              "      <th>habit</th>\n",
              "      <th>0089</th>\n",
              "      <th>shakara</th>\n",
              "      <th>signing</th>\n",
              "      <th>...</th>\n",
              "      <th>cup</th>\n",
              "      <th>tncs</th>\n",
              "      <th>offline</th>\n",
              "      <th>monthlysubscription</th>\n",
              "      <th>eveb</th>\n",
              "      <th>stay</th>\n",
              "      <th>japanese</th>\n",
              "      <th>nightnight</th>\n",
              "      <th>up</th>\n",
              "      <th>clearer</th>\n",
              "    </tr>\n",
              "  </thead>\n",
              "  <tbody>\n",
              "    <tr>\n",
              "      <th>0</th>\n",
              "      <td>ham</td>\n",
              "      <td>[yep, by, the, pretty, sculpture]</td>\n",
              "      <td>0</td>\n",
              "      <td>0</td>\n",
              "      <td>0</td>\n",
              "      <td>0</td>\n",
              "      <td>0</td>\n",
              "      <td>0</td>\n",
              "      <td>0</td>\n",
              "      <td>0</td>\n",
              "      <td>...</td>\n",
              "      <td>0</td>\n",
              "      <td>0</td>\n",
              "      <td>0</td>\n",
              "      <td>0</td>\n",
              "      <td>0</td>\n",
              "      <td>0</td>\n",
              "      <td>0</td>\n",
              "      <td>0</td>\n",
              "      <td>0</td>\n",
              "      <td>0</td>\n",
              "    </tr>\n",
              "    <tr>\n",
              "      <th>1</th>\n",
              "      <td>ham</td>\n",
              "      <td>[yes, princess, are, you, going, to, make, me,...</td>\n",
              "      <td>0</td>\n",
              "      <td>0</td>\n",
              "      <td>0</td>\n",
              "      <td>0</td>\n",
              "      <td>0</td>\n",
              "      <td>0</td>\n",
              "      <td>0</td>\n",
              "      <td>0</td>\n",
              "      <td>...</td>\n",
              "      <td>0</td>\n",
              "      <td>0</td>\n",
              "      <td>0</td>\n",
              "      <td>0</td>\n",
              "      <td>0</td>\n",
              "      <td>0</td>\n",
              "      <td>0</td>\n",
              "      <td>0</td>\n",
              "      <td>0</td>\n",
              "      <td>0</td>\n",
              "    </tr>\n",
              "    <tr>\n",
              "      <th>2</th>\n",
              "      <td>ham</td>\n",
              "      <td>[welp, apparently, he, retired]</td>\n",
              "      <td>0</td>\n",
              "      <td>0</td>\n",
              "      <td>0</td>\n",
              "      <td>0</td>\n",
              "      <td>0</td>\n",
              "      <td>0</td>\n",
              "      <td>0</td>\n",
              "      <td>0</td>\n",
              "      <td>...</td>\n",
              "      <td>0</td>\n",
              "      <td>0</td>\n",
              "      <td>0</td>\n",
              "      <td>0</td>\n",
              "      <td>0</td>\n",
              "      <td>0</td>\n",
              "      <td>0</td>\n",
              "      <td>0</td>\n",
              "      <td>0</td>\n",
              "      <td>0</td>\n",
              "    </tr>\n",
              "    <tr>\n",
              "      <th>3</th>\n",
              "      <td>ham</td>\n",
              "      <td>[havent]</td>\n",
              "      <td>0</td>\n",
              "      <td>0</td>\n",
              "      <td>0</td>\n",
              "      <td>0</td>\n",
              "      <td>0</td>\n",
              "      <td>0</td>\n",
              "      <td>0</td>\n",
              "      <td>0</td>\n",
              "      <td>...</td>\n",
              "      <td>0</td>\n",
              "      <td>0</td>\n",
              "      <td>0</td>\n",
              "      <td>0</td>\n",
              "      <td>0</td>\n",
              "      <td>0</td>\n",
              "      <td>0</td>\n",
              "      <td>0</td>\n",
              "      <td>0</td>\n",
              "      <td>0</td>\n",
              "    </tr>\n",
              "    <tr>\n",
              "      <th>4</th>\n",
              "      <td>ham</td>\n",
              "      <td>[i, forgot, 2, ask, ü, all, smth, there, s, a,...</td>\n",
              "      <td>0</td>\n",
              "      <td>0</td>\n",
              "      <td>0</td>\n",
              "      <td>0</td>\n",
              "      <td>0</td>\n",
              "      <td>0</td>\n",
              "      <td>0</td>\n",
              "      <td>0</td>\n",
              "      <td>...</td>\n",
              "      <td>0</td>\n",
              "      <td>0</td>\n",
              "      <td>0</td>\n",
              "      <td>0</td>\n",
              "      <td>0</td>\n",
              "      <td>0</td>\n",
              "      <td>0</td>\n",
              "      <td>0</td>\n",
              "      <td>0</td>\n",
              "      <td>0</td>\n",
              "    </tr>\n",
              "  </tbody>\n",
              "</table>\n",
              "<p>5 rows × 7785 columns</p>\n",
              "</div>\n",
              "      <button class=\"colab-df-convert\" onclick=\"convertToInteractive('df-1e50c634-01cb-4619-b4f6-b2827f624979')\"\n",
              "              title=\"Convert this dataframe to an interactive table.\"\n",
              "              style=\"display:none;\">\n",
              "        \n",
              "  <svg xmlns=\"http://www.w3.org/2000/svg\" height=\"24px\"viewBox=\"0 0 24 24\"\n",
              "       width=\"24px\">\n",
              "    <path d=\"M0 0h24v24H0V0z\" fill=\"none\"/>\n",
              "    <path d=\"M18.56 5.44l.94 2.06.94-2.06 2.06-.94-2.06-.94-.94-2.06-.94 2.06-2.06.94zm-11 1L8.5 8.5l.94-2.06 2.06-.94-2.06-.94L8.5 2.5l-.94 2.06-2.06.94zm10 10l.94 2.06.94-2.06 2.06-.94-2.06-.94-.94-2.06-.94 2.06-2.06.94z\"/><path d=\"M17.41 7.96l-1.37-1.37c-.4-.4-.92-.59-1.43-.59-.52 0-1.04.2-1.43.59L10.3 9.45l-7.72 7.72c-.78.78-.78 2.05 0 2.83L4 21.41c.39.39.9.59 1.41.59.51 0 1.02-.2 1.41-.59l7.78-7.78 2.81-2.81c.8-.78.8-2.07 0-2.86zM5.41 20L4 18.59l7.72-7.72 1.47 1.35L5.41 20z\"/>\n",
              "  </svg>\n",
              "      </button>\n",
              "      \n",
              "  <style>\n",
              "    .colab-df-container {\n",
              "      display:flex;\n",
              "      flex-wrap:wrap;\n",
              "      gap: 12px;\n",
              "    }\n",
              "\n",
              "    .colab-df-convert {\n",
              "      background-color: #E8F0FE;\n",
              "      border: none;\n",
              "      border-radius: 50%;\n",
              "      cursor: pointer;\n",
              "      display: none;\n",
              "      fill: #1967D2;\n",
              "      height: 32px;\n",
              "      padding: 0 0 0 0;\n",
              "      width: 32px;\n",
              "    }\n",
              "\n",
              "    .colab-df-convert:hover {\n",
              "      background-color: #E2EBFA;\n",
              "      box-shadow: 0px 1px 2px rgba(60, 64, 67, 0.3), 0px 1px 3px 1px rgba(60, 64, 67, 0.15);\n",
              "      fill: #174EA6;\n",
              "    }\n",
              "\n",
              "    [theme=dark] .colab-df-convert {\n",
              "      background-color: #3B4455;\n",
              "      fill: #D2E3FC;\n",
              "    }\n",
              "\n",
              "    [theme=dark] .colab-df-convert:hover {\n",
              "      background-color: #434B5C;\n",
              "      box-shadow: 0px 1px 3px 1px rgba(0, 0, 0, 0.15);\n",
              "      filter: drop-shadow(0px 1px 2px rgba(0, 0, 0, 0.3));\n",
              "      fill: #FFFFFF;\n",
              "    }\n",
              "  </style>\n",
              "\n",
              "      <script>\n",
              "        const buttonEl =\n",
              "          document.querySelector('#df-1e50c634-01cb-4619-b4f6-b2827f624979 button.colab-df-convert');\n",
              "        buttonEl.style.display =\n",
              "          google.colab.kernel.accessAllowed ? 'block' : 'none';\n",
              "\n",
              "        async function convertToInteractive(key) {\n",
              "          const element = document.querySelector('#df-1e50c634-01cb-4619-b4f6-b2827f624979');\n",
              "          const dataTable =\n",
              "            await google.colab.kernel.invokeFunction('convertToInteractive',\n",
              "                                                     [key], {});\n",
              "          if (!dataTable) return;\n",
              "\n",
              "          const docLinkHtml = 'Like what you see? Visit the ' +\n",
              "            '<a target=\"_blank\" href=https://colab.research.google.com/notebooks/data_table.ipynb>data table notebook</a>'\n",
              "            + ' to learn more about interactive tables.';\n",
              "          element.innerHTML = '';\n",
              "          dataTable['output_type'] = 'display_data';\n",
              "          await google.colab.output.renderOutput(dataTable, element);\n",
              "          const docLink = document.createElement('div');\n",
              "          docLink.innerHTML = docLinkHtml;\n",
              "          element.appendChild(docLink);\n",
              "        }\n",
              "      </script>\n",
              "    </div>\n",
              "  </div>\n",
              "  "
            ],
            "text/plain": [
              "  Label                                                SMS  myself  lingo  \\\n",
              "0   ham                  [yep, by, the, pretty, sculpture]       0      0   \n",
              "1   ham  [yes, princess, are, you, going, to, make, me,...       0      0   \n",
              "2   ham                    [welp, apparently, he, retired]       0      0   \n",
              "3   ham                                           [havent]       0      0   \n",
              "4   ham  [i, forgot, 2, ask, ü, all, smth, there, s, a,...       0      0   \n",
              "\n",
              "   term  81303  habit  0089  shakara  signing  ...  cup  tncs  offline  \\\n",
              "0     0      0      0     0        0        0  ...    0     0        0   \n",
              "1     0      0      0     0        0        0  ...    0     0        0   \n",
              "2     0      0      0     0        0        0  ...    0     0        0   \n",
              "3     0      0      0     0        0        0  ...    0     0        0   \n",
              "4     0      0      0     0        0        0  ...    0     0        0   \n",
              "\n",
              "   monthlysubscription  eveb  stay  japanese  nightnight  up  clearer  \n",
              "0                    0     0     0         0           0   0        0  \n",
              "1                    0     0     0         0           0   0        0  \n",
              "2                    0     0     0         0           0   0        0  \n",
              "3                    0     0     0         0           0   0        0  \n",
              "4                    0     0     0         0           0   0        0  \n",
              "\n",
              "[5 rows x 7785 columns]"
            ]
          },
          "execution_count": 33,
          "metadata": {},
          "output_type": "execute_result"
        }
      ],
      "source": [
        "training_set_clean = pd.concat([training_set, word_counts], axis=1)\n",
        "training_set_clean.head()"
      ]
    },
    {
      "cell_type": "markdown",
      "metadata": {
        "id": "dDrf8JC4t6VI"
      },
      "source": [
        "**Calculating Constants First**\n",
        "\n",
        "Now that we're done with cleaning the training set, we can begin coding the spam filter. The Bayes algorithm will need to answer these two probability questions to be able to classify new messages:\n",
        "\n",
        "Also, to calculate $P(w_i|Spam)$ and $P(w_i|Ham)$ inside the formulas above, we'll need to use these equations:\n",
        "\n",
        "$P(w_i|Spam) = \\frac{N_{i|Spam} + \\alpha}{N_{spam} + \\alpha.N_v}$\n",
        "\n",
        "\n",
        "$P(w_i|Ham) = \\frac{N_{i|Ham} + \\alpha}{N_{ham} + \\alpha.N_v}$\n",
        "\n",
        "Where $N_v$ is the size of the vocabulary (7785 in our case)\n",
        "$N_{i|Spam}$ is number of times word $w_i$ is found in spam email and $N_{spam}$ total number of spam email.\n",
        "\n",
        "Note that a word can appear multiple times in an SMS, but we will only count it as once. There is an advanced version where count is used, but we will only use it if the word is present or absent.\n",
        "\n",
        "This $\\alpha$ is added to account for words that are not seen in the training set but might be in the test set. For them both $N_{i|Spam}$ and $N_{i}$ is 0.\n",
        "This is added to our previous definition of likelihood to avoid zero probability cases just because a word is not seen in training.\n",
        "\n"
      ]
    },
    {
      "cell_type": "code",
      "execution_count": null,
      "metadata": {
        "id": "YlU5QocMLD5S"
      },
      "outputs": [],
      "source": [
        "# Isolating spam and ham messages first\n",
        "spam_messages = training_set_clean[training_set_clean['Label'] == 'spam']\n",
        "ham_messages = training_set_clean[training_set_clean['Label'] == 'ham']\n",
        "\n",
        "# P(Spam) and P(Ham)\n",
        "p_spam = len(spam_messages) / len(training_set_clean)\n",
        "p_ham = len(ham_messages) / len(training_set_clean)\n",
        "\n",
        "# N_Spam\n",
        "n_spam = len(spam_messages)\n",
        "\n",
        "# N_Ham\n",
        "\n",
        "n_ham = len(ham_messages)\n",
        "\n",
        "# N_Vocabulary\n",
        "n_vocabulary = len(vocabulary)\n",
        "\n",
        "# Laplace smoothing\n",
        "alpha = 1"
      ]
    },
    {
      "cell_type": "markdown",
      "metadata": {
        "id": "Tr7EelQRt8WD"
      },
      "source": [
        "**Calculating Parameters**\n",
        "\n",
        "Now that we have the above constant terms, we can calculate `P(wi|Spam)` and `P(wi|Ham)`.\n",
        "\n",
        "`P(wi|Spam)` and `P(wi|Ham)` will vary depending on the words. For instance,\n",
        "`P(\"secret\"|Spam) `will have a certain probability value, while `P(\"cousin\"|Spam)` or `P(\"lovely\"|Spam)` will most likely have other values.\n",
        "\n",
        "Therefore, each parameter will be a conditional probability value associated with each word in the vocabulary."
      ]
    },
    {
      "cell_type": "code",
      "execution_count": null,
      "metadata": {
        "id": "mYrY6kMoY1Qx"
      },
      "outputs": [],
      "source": [
        "# Initiate parameters\n",
        "parameters_spam = {unique_word:0 for unique_word in vocabulary}\n",
        "parameters_ham = {unique_word:0 for unique_word in vocabulary}\n",
        "\n",
        "# Calculate parameters\n",
        "for word in vocabulary:\n",
        "   n_word_given_spam = spam_messages[word].sum() # spam_messages already defined\n",
        "   p_word_given_spam = (n_word_given_spam + alpha) / (n_spam + alpha*n_vocabulary)\n",
        "   parameters_spam[word] = p_word_given_spam\n",
        "\n",
        "   n_word_given_ham = ham_messages[word].sum() # ham_messages already defined\n",
        "   p_word_given_ham = (n_word_given_ham + alpha) / (n_ham + alpha*n_vocabulary)\n",
        "   parameters_ham[word] = p_word_given_ham"
      ]
    },
    {
      "cell_type": "markdown",
      "metadata": {
        "id": "4rCadikgt90l"
      },
      "source": [
        "**Classifying A New Message**\n",
        "\n",
        "Now that we have all our parameters calculated, we can start creating the spam filter. The spam filter is understood as a function that:\n",
        "\n",
        "Takes a new message as input(w1, w2, ..., wn).\n",
        "\n",
        "Calculates P(Spam|w1, w2, ..., wn) and P(Ham|w1, w2, ..., wn).\n",
        "\n",
        "Compares the values of P(Spam|w1, w2, ..., wn) and P(Ham|w1, w2, ..., wn), and:\n",
        "If P(Ham|w1, w2, ..., wn) > P(Spam|w1, w2, ..., wn), then the message is classified as ham.\n",
        "\n",
        "If P(Ham|w1, w2, ..., wn) < P(Spam|w1, w2, ..., wn), then the message is classified as spam.\n",
        "\n",
        "If P(Ham|w1, w2, ..., wn) = P(Spam|w1, w2, ..., wn), then the algorithm may request human help.\n",
        "\n",
        "Note that some new messages will contain words that are not part of the vocabulary. We will simply ignore these words when we're calculating the probabilities.\n",
        "\n",
        "Let's start by writing a first version of this function. For the classify() function below, notice that:\n",
        "\n",
        "-> The input variable message needs to be a string.\n",
        "\n",
        "-> We perform a bit of data cleaning on the string message:\n",
        "\n",
        "-> We remove the punctuation using the re.sub() function.\n",
        "\n",
        "-> We bring all letters to lower case using the str.lower() method.\n",
        "\n",
        "-> We split the string at the space character and transform it into a Python list using the str.split() method.\n",
        "\n",
        "-> We calculate p_spam_given_message and p_ham_given_message.\n",
        "\n",
        "-> We compare p_spam_given_message with p_ham_given_message and then print a classification label."
      ]
    },
    {
      "cell_type": "code",
      "execution_count": null,
      "metadata": {
        "id": "8srZNd56ZV7B"
      },
      "outputs": [],
      "source": [
        "import re\n",
        "\n",
        "def spam_detector(message):\n",
        "   '''\n",
        "   message: a string\n",
        "   '''\n",
        "\n",
        "   message = re.sub('\\W', ' ', message)\n",
        "   message = message.lower().split()\n",
        "\n",
        "   p_spam_given_message = p_spam\n",
        "   p_ham_given_message = p_ham\n",
        "\n",
        "   for word in message:\n",
        "      if word in parameters_spam:\n",
        "         p_spam_given_message *= parameters_spam[word]\n",
        "\n",
        "      if word in parameters_ham:\n",
        "         p_ham_given_message *= parameters_ham[word]\n",
        "\n",
        "\n",
        "   p_given_message = p_spam_given_message + p_ham_given_message\n",
        "\n",
        "   p_spam_given_message = p_spam_given_message/p_given_message\n",
        "\n",
        "   p_ham_given_message = p_ham_given_message/p_given_message\n",
        "\n",
        "   print('P(Spam|message):', p_spam_given_message)\n",
        "   print('P(Ham|message):', p_ham_given_message)\n",
        "\n",
        "   if p_ham_given_message > p_spam_given_message:\n",
        "      print('Label: Ham')\n",
        "   elif p_ham_given_message < p_spam_given_message:\n",
        "      print('Label: Spam')\n",
        "   else:\n",
        "      print('Equal proabilities, have a human classify this!')"
      ]
    },
    {
      "cell_type": "markdown",
      "metadata": {
        "id": "52qq8olzuAK1"
      },
      "source": [
        "We'll now test the spam filter on two new messages. One message is obviously spam, and the other is obviously ham."
      ]
    },
    {
      "cell_type": "code",
      "execution_count": null,
      "metadata": {
        "colab": {
          "base_uri": "https://localhost:8080/"
        },
        "id": "Tsytdc-GZV9V",
        "outputId": "71ecc0b5-cb64-46e6-b4c5-5238b82edb2f"
      },
      "outputs": [
        {
          "name": "stdout",
          "output_type": "stream",
          "text": [
            "P(Spam|message): 0.1038101945331278\n",
            "P(Ham|message): 0.8961898054668722\n",
            "Label: Ham\n"
          ]
        }
      ],
      "source": [
        "spam_detector('WINNER!! This is the secret code to unlock the money: C3421.')"
      ]
    },
    {
      "cell_type": "code",
      "execution_count": null,
      "metadata": {
        "colab": {
          "base_uri": "https://localhost:8080/"
        },
        "id": "HaN_ZURmZWDz",
        "outputId": "f4ffc82e-0a6c-476d-8d84-14356442aeaf"
      },
      "outputs": [
        {
          "name": "stdout",
          "output_type": "stream",
          "text": [
            "P(Spam|message): 5.469366899304228e-07\n",
            "P(Ham|message): 0.9999994530633101\n",
            "Label: Ham\n"
          ]
        }
      ],
      "source": [
        "spam_detector(\"Sounds good, Tom, then see u there\")"
      ]
    },
    {
      "cell_type": "markdown",
      "metadata": {
        "id": "KfqUA2bUuClL"
      },
      "source": [
        "**Measuring the Spam Filter's Accuracy**\n",
        "\n",
        "The two results look promising, but let's see how well the filter does on our test set, which has 1,114 messages.\n",
        "\n",
        "We'll start by writing a function that returns classification labels instead of printing them."
      ]
    },
    {
      "cell_type": "markdown",
      "metadata": {
        "id": "rRo3Bq0MuEAo"
      },
      "source": [
        "Now that we have a function that returns labels instead of printing them, we can use it to create a new column in our test set."
      ]
    },
    {
      "cell_type": "code",
      "execution_count": null,
      "metadata": {
        "id": "4SvOUfNSeyEU"
      },
      "outputs": [],
      "source": [
        "def spam_detector_test_set(message):\n",
        "  message = re.sub('\\W', ' ', message)\n",
        "  message = message.lower().split()\n",
        "\n",
        "  p_spam_given_message = p_spam\n",
        "  p_ham_given_message = p_ham\n",
        "\n",
        "  for word in message:\n",
        "    if word in parameters_spam:\n",
        "        p_spam_given_message *= parameters_spam[word]\n",
        "\n",
        "    if word in parameters_ham:\n",
        "        p_ham_given_message *= parameters_ham[word]\n",
        "\n",
        "  p_given_message = p_spam_given_message + p_ham_given_message\n",
        "  p_spam_given_message = p_spam_given_message/p_given_message\n",
        "  p_ham_given_message = p_ham_given_message/p_given_message\n",
        "  if p_ham_given_message > p_spam_given_message:\n",
        "    return 'ham'\n",
        "  elif p_spam_given_message > p_ham_given_message:\n",
        "    return 'spam'\n",
        "  else:\n",
        "    return 'needs human classification'"
      ]
    },
    {
      "cell_type": "code",
      "execution_count": null,
      "metadata": {
        "id": "5eyEUcshexeC"
      },
      "outputs": [],
      "source": []
    },
    {
      "cell_type": "code",
      "execution_count": null,
      "metadata": {
        "colab": {
          "base_uri": "https://localhost:8080/",
          "height": 206
        },
        "id": "7ppjz0JLZWny",
        "outputId": "510f953c-4f3b-45d7-dc3f-e81ee2ddf1c3"
      },
      "outputs": [
        {
          "data": {
            "text/html": [
              "\n",
              "  <div id=\"df-0e578ae5-6ab0-4934-8e1a-54896aca602f\">\n",
              "    <div class=\"colab-df-container\">\n",
              "      <div>\n",
              "<style scoped>\n",
              "    .dataframe tbody tr th:only-of-type {\n",
              "        vertical-align: middle;\n",
              "    }\n",
              "\n",
              "    .dataframe tbody tr th {\n",
              "        vertical-align: top;\n",
              "    }\n",
              "\n",
              "    .dataframe thead th {\n",
              "        text-align: right;\n",
              "    }\n",
              "</style>\n",
              "<table border=\"1\" class=\"dataframe\">\n",
              "  <thead>\n",
              "    <tr style=\"text-align: right;\">\n",
              "      <th></th>\n",
              "      <th>Label</th>\n",
              "      <th>SMS</th>\n",
              "      <th>predicted</th>\n",
              "    </tr>\n",
              "  </thead>\n",
              "  <tbody>\n",
              "    <tr>\n",
              "      <th>0</th>\n",
              "      <td>ham</td>\n",
              "      <td>Later i guess. I needa do mcat study too.</td>\n",
              "      <td>ham</td>\n",
              "    </tr>\n",
              "    <tr>\n",
              "      <th>1</th>\n",
              "      <td>ham</td>\n",
              "      <td>But i haf enuff space got like 4 mb...</td>\n",
              "      <td>ham</td>\n",
              "    </tr>\n",
              "    <tr>\n",
              "      <th>2</th>\n",
              "      <td>spam</td>\n",
              "      <td>Had your mobile 10 mths? Update to latest Oran...</td>\n",
              "      <td>spam</td>\n",
              "    </tr>\n",
              "    <tr>\n",
              "      <th>3</th>\n",
              "      <td>ham</td>\n",
              "      <td>All sounds good. Fingers . Makes it difficult ...</td>\n",
              "      <td>ham</td>\n",
              "    </tr>\n",
              "    <tr>\n",
              "      <th>4</th>\n",
              "      <td>ham</td>\n",
              "      <td>All done, all handed in. Don't know if mega sh...</td>\n",
              "      <td>ham</td>\n",
              "    </tr>\n",
              "  </tbody>\n",
              "</table>\n",
              "</div>\n",
              "      <button class=\"colab-df-convert\" onclick=\"convertToInteractive('df-0e578ae5-6ab0-4934-8e1a-54896aca602f')\"\n",
              "              title=\"Convert this dataframe to an interactive table.\"\n",
              "              style=\"display:none;\">\n",
              "        \n",
              "  <svg xmlns=\"http://www.w3.org/2000/svg\" height=\"24px\"viewBox=\"0 0 24 24\"\n",
              "       width=\"24px\">\n",
              "    <path d=\"M0 0h24v24H0V0z\" fill=\"none\"/>\n",
              "    <path d=\"M18.56 5.44l.94 2.06.94-2.06 2.06-.94-2.06-.94-.94-2.06-.94 2.06-2.06.94zm-11 1L8.5 8.5l.94-2.06 2.06-.94-2.06-.94L8.5 2.5l-.94 2.06-2.06.94zm10 10l.94 2.06.94-2.06 2.06-.94-2.06-.94-.94-2.06-.94 2.06-2.06.94z\"/><path d=\"M17.41 7.96l-1.37-1.37c-.4-.4-.92-.59-1.43-.59-.52 0-1.04.2-1.43.59L10.3 9.45l-7.72 7.72c-.78.78-.78 2.05 0 2.83L4 21.41c.39.39.9.59 1.41.59.51 0 1.02-.2 1.41-.59l7.78-7.78 2.81-2.81c.8-.78.8-2.07 0-2.86zM5.41 20L4 18.59l7.72-7.72 1.47 1.35L5.41 20z\"/>\n",
              "  </svg>\n",
              "      </button>\n",
              "      \n",
              "  <style>\n",
              "    .colab-df-container {\n",
              "      display:flex;\n",
              "      flex-wrap:wrap;\n",
              "      gap: 12px;\n",
              "    }\n",
              "\n",
              "    .colab-df-convert {\n",
              "      background-color: #E8F0FE;\n",
              "      border: none;\n",
              "      border-radius: 50%;\n",
              "      cursor: pointer;\n",
              "      display: none;\n",
              "      fill: #1967D2;\n",
              "      height: 32px;\n",
              "      padding: 0 0 0 0;\n",
              "      width: 32px;\n",
              "    }\n",
              "\n",
              "    .colab-df-convert:hover {\n",
              "      background-color: #E2EBFA;\n",
              "      box-shadow: 0px 1px 2px rgba(60, 64, 67, 0.3), 0px 1px 3px 1px rgba(60, 64, 67, 0.15);\n",
              "      fill: #174EA6;\n",
              "    }\n",
              "\n",
              "    [theme=dark] .colab-df-convert {\n",
              "      background-color: #3B4455;\n",
              "      fill: #D2E3FC;\n",
              "    }\n",
              "\n",
              "    [theme=dark] .colab-df-convert:hover {\n",
              "      background-color: #434B5C;\n",
              "      box-shadow: 0px 1px 3px 1px rgba(0, 0, 0, 0.15);\n",
              "      filter: drop-shadow(0px 1px 2px rgba(0, 0, 0, 0.3));\n",
              "      fill: #FFFFFF;\n",
              "    }\n",
              "  </style>\n",
              "\n",
              "      <script>\n",
              "        const buttonEl =\n",
              "          document.querySelector('#df-0e578ae5-6ab0-4934-8e1a-54896aca602f button.colab-df-convert');\n",
              "        buttonEl.style.display =\n",
              "          google.colab.kernel.accessAllowed ? 'block' : 'none';\n",
              "\n",
              "        async function convertToInteractive(key) {\n",
              "          const element = document.querySelector('#df-0e578ae5-6ab0-4934-8e1a-54896aca602f');\n",
              "          const dataTable =\n",
              "            await google.colab.kernel.invokeFunction('convertToInteractive',\n",
              "                                                     [key], {});\n",
              "          if (!dataTable) return;\n",
              "\n",
              "          const docLinkHtml = 'Like what you see? Visit the ' +\n",
              "            '<a target=\"_blank\" href=https://colab.research.google.com/notebooks/data_table.ipynb>data table notebook</a>'\n",
              "            + ' to learn more about interactive tables.';\n",
              "          element.innerHTML = '';\n",
              "          dataTable['output_type'] = 'display_data';\n",
              "          await google.colab.output.renderOutput(dataTable, element);\n",
              "          const docLink = document.createElement('div');\n",
              "          docLink.innerHTML = docLinkHtml;\n",
              "          element.appendChild(docLink);\n",
              "        }\n",
              "      </script>\n",
              "    </div>\n",
              "  </div>\n",
              "  "
            ],
            "text/plain": [
              "  Label                                                SMS predicted\n",
              "0   ham          Later i guess. I needa do mcat study too.       ham\n",
              "1   ham             But i haf enuff space got like 4 mb...       ham\n",
              "2  spam  Had your mobile 10 mths? Update to latest Oran...      spam\n",
              "3   ham  All sounds good. Fingers . Makes it difficult ...       ham\n",
              "4   ham  All done, all handed in. Don't know if mega sh...       ham"
            ]
          },
          "execution_count": 50,
          "metadata": {},
          "output_type": "execute_result"
        }
      ],
      "source": [
        "test_set['predicted'] = test_set['SMS'].apply(spam_detector_test_set)\n",
        "test_set.head()"
      ]
    },
    {
      "cell_type": "markdown",
      "metadata": {
        "id": "jgKjNn6PuFGs"
      },
      "source": [
        "We can compare the predicted values with the actual values to measure how good our spam filter is with classifying new messages. To make the measurement, we'll use accuracy as a metric"
      ]
    },
    {
      "cell_type": "code",
      "execution_count": null,
      "metadata": {
        "colab": {
          "base_uri": "https://localhost:8080/"
        },
        "id": "mnCMLBnsY1TY",
        "outputId": "7b11eb20-d88f-4270-8267-f8f0a97169f1"
      },
      "outputs": [
        {
          "name": "stdout",
          "output_type": "stream",
          "text": [
            "Correct: 1074\n",
            "Incorrect: 40\n",
            "Accuracy: 0.9640933572710951\n"
          ]
        }
      ],
      "source": [
        "correct = 0\n",
        "total = test_set.shape[0]\n",
        "\n",
        "for row in test_set.iterrows():\n",
        "   row = row[1]\n",
        "   if row['Label'] == row['predicted']:\n",
        "      correct += 1\n",
        "\n",
        "print('Correct:', correct)\n",
        "print('Incorrect:', total - correct)\n",
        "print('Accuracy:', correct/total)"
      ]
    },
    {
      "cell_type": "code",
      "execution_count": null,
      "metadata": {
        "id": "-dmajqwmLkq3"
      },
      "outputs": [],
      "source": []
    }
  ],
  "metadata": {
    "colab": {
      "provenance": [],
      "include_colab_link": true
    },
    "kernelspec": {
      "display_name": "Python 3",
      "name": "python3"
    },
    "language_info": {
      "name": "python"
    }
  },
  "nbformat": 4,
  "nbformat_minor": 0
}